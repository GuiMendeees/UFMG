{
 "cells": [
  {
   "cell_type": "markdown",
   "metadata": {},
   "source": [
    "1)\n",
    "A) Sim pois o numero de linhas L.I é igual ao numero de variáveis, portanto ela admite uma única solução.\n",
    "\n",
    "B) \n",
    "    4x+0y+0z = 12\n",
    "    -2x+5y+0z = 4\n",
    "    x+7y+3z = 20\n",
    "    \n",
    "    x= 12/4\n",
    "    x = 3\n",
    "    \n",
    "    -2(3)+5y = 4\n",
    "    -6+5y = 4\n",
    "    y = 10/5\n",
    "    y=2\n",
    "    \n",
    "    3+7(2)+3z=20\n",
    "    3+14+3z=20\n",
    "    z=3/3\n",
    "    z=1\n",
    "    \n",
    "    S{3,2,1}"
   ]
  },
  {
   "cell_type": "markdown",
   "metadata": {},
   "source": [
    "2)\n"
   ]
  },
  {
   "attachments": {},
   "cell_type": "markdown",
   "metadata": {},
   "source": [
    "3)\n",
    "A)\n",
    "\n",
    "Matriz A:\n",
    "\t\t\n",
    "3\t2\t4\n",
    "1\t1\t2\n",
    "4\t3\t-2\n",
    "\n",
    "\n",
    "Invertendo as Linhas 3 e 1 para ter o maior pivô possível\n",
    "\n",
    "\t\t\n",
    "4\t3\t-2\n",
    "1\t1\t2\n",
    "3\t2\t4\n",
    "\n",
    "Pivô1 = 4\n",
    "Calculando Multiplicadores -> Numero a ser zerado/Pivô\n",
    "m21 = 1/4\n",
    "m31 = 3/4\n",
    "\n",
    "Zerando as colunas abaixo da Diagonal (soma com o simetrico do multiplicador)\n",
    "L2 = L2 - ((1/4) * L1)\n",
    "L3 = L3 - ((3/4) * L1)\n",
    "\n",
    "\t\t\n",
    "4\t3\t-2\n",
    "0\t0,25\t2,5\n",
    "0\t-0,25\t5,5\n",
    "\t\t\n",
    "Pivô2 = 0,25\n",
    "Calculando Multiplicadores -> Numero a ser zerado/Pivô\n",
    "m32 = -1\n",
    "\n",
    "Zerando as colunas abaixo da Diagonal (soma com o simetrico do multiplicador)\n",
    "L3 = L3 + L2\n",
    "\n",
    "\t\t\t\n",
    "4\t3\t-2\n",
    "0\t0,25\t2,5\n",
    "0\t0\t8\n",
    "\t\t\t\n",
    "Matriz U  = Resultado do Escalonamento\n",
    "\n",
    "4\t3\t-2\n",
    "0\t0,25\t2,5\n",
    "0\t0\t8\n",
    "\n",
    "\n",
    "Matriz L = Triangular Inferior com elementos abaixo da Diagonal principal sendo os multiplicadores obtidos na eliminação de Gauss\n",
    "\n",
    "\t\t\n",
    "1\t0\t0\n",
    "0,25\t1\t0\n",
    "0,75\t-1\t1"
   ]
  },
  {
   "cell_type": "markdown",
   "metadata": {},
   "source": [
    "\n",
    "\n",
    "B)\n",
    "\n",
    "        3  2   4   3  2\n",
    "        1  1   2   1  1\n",
    "        4  3  -2   4  3\n",
    "        \n",
    "        \n",
    "        Det(A) = 3*1*(-2)+ 2*2*4 + 4 * 1 * 3 - ( 2*1*(-2)+3*2*3+4*1*4)\n",
    "               = -6+16+12-(-4+18+16)\n",
    "               = 22-30\n",
    "               Det(A) = -8"
   ]
  },
  {
   "cell_type": "markdown",
   "metadata": {},
   "source": [
    "4)\n",
    "( )\n",
    "( )\n",
    "(F)"
   ]
  }
 ],
 "metadata": {
  "kernelspec": {
   "display_name": "Python 3",
   "language": "python",
   "name": "python3"
  },
  "language_info": {
   "codemirror_mode": {
    "name": "ipython",
    "version": 3
   },
   "file_extension": ".py",
   "mimetype": "text/x-python",
   "name": "python",
   "nbconvert_exporter": "python",
   "pygments_lexer": "ipython3",
   "version": "3.7.1"
  }
 },
 "nbformat": 4,
 "nbformat_minor": 2
}
