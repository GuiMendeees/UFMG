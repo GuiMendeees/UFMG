{
 "cells": [
  {
   "cell_type": "code",
   "execution_count": 126,
   "metadata": {
    "scrolled": true
   },
   "outputs": [
    {
     "name": "stdout",
     "output_type": "stream",
     "text": [
      "Estado atual da população com HIV\n",
      "[[0.85 0.1  0.05 0.  ]]\n",
      "\n",
      "\n",
      "Após dez anos a população com HIV estará distribuída:\n",
      "[[0.29637667 0.3167509  0.1342175  0.25265492]]\n"
     ]
    }
   ],
   "source": [
    "#Nome: Guilherme Mendes de Oliveira\n",
    "#Matrícula: 2018046939\n",
    "\n",
    "\n",
    "#1.  Considere o exemplo visto em sala que usava uma Cadeia de Markov para ilustrar a transição de estados \n",
    "#para um indiv ́ıduo que possui o vírus do HIV. Se a população está distribuída hoje conforme \n",
    "#o vetorπ=(0.85,0.10,0.05,0.00), qual ser ́a a distribuição após 10 ?\n",
    "\n",
    "\n",
    "\n",
    "import numpy as np\n",
    "\n",
    "A = np.array ([[ 0.90, 0.07, 0.02, 0.01], \n",
    "               [ 0.0, 0.93, 0.05, 0.02],\n",
    "               [ 0.0, 0.0, 0.85, 0.15],\n",
    "               [ 0.0, 0.0, 0.0, 1.0]])\n",
    "\n",
    "vetor = np.array([[0.85 , 0.10, 0.05, 0.0]])\n",
    "\n",
    "#print (A)\n",
    "#print (vetor)\n",
    "\n",
    "rowCol = (1,4)\n",
    "tenYears = np.zeros(rowCol)\n",
    "print ('Estado atual da população com HIV')\n",
    "print (vetor)\n",
    "print('\\n')\n",
    "print ('Após dez anos a população com HIV estará distribuída:')\n",
    "\n",
    "for tempo in range (10):\n",
    "    tenYears = vetor @ A\n",
    "    vetor = tenYears\n",
    "\n",
    "print (tenYears)\n",
    "\n",
    "\n",
    "                                   \n",
    "\n",
    "    "
   ]
  },
  {
   "cell_type": "code",
   "execution_count": 4,
   "metadata": {},
   "outputs": [],
   "source": [
    "#Considere o seguinte computador hipotético,  onde a representação de um n ́umero em ponto flutuante \n",
    "#em base 2 (binária) possui apenas 5 dígitos para a mantissa e o expoente pode variar entre -6 e 7.  \n",
    "#Tendo como referência os padrõees da IEEE apresentados em sala,(a)  \n",
    "\n",
    "#A) - Qual o menor n ́umero positivo que pode ser representado de forma exata?\n",
    "#Resposta: (−1)0 • 2−6 • (1.)2  = 2−6\n",
    "\n",
    "#B) -  Qual o maior?   \n",
    "#Respota: (−1)0·27·(1.11111)2≈28 \n",
    "\n",
    "#C) - Como  seria  representado  o  n ́umero  23·(0.01010)2neste  computador?\n",
    "#Resposta: Andando  com  o  ponto  duascasas para a direita e reduzindo o expoente:  (−1)0·21·(1.01000)2\n",
    "\n",
    "#D) -   Como seria representado o numero −2−2·(1101.01010)2 neste computador?\n",
    "#Resposta: Andando com o pontotrˆes casas para a esquerda e aumentado o expoente:  (−1)1·2−5·(1.10101)2≈28\n",
    "\n",
    "#E)  Qual  ́e o menor numero maior que 1 neste computador?   \n",
    "#Respota: (−1)0·20·(1.00001)2≈1 + 2−5\n",
    "\n",
    "#F) -   Qual é o e machine? ́\n",
    "#Resposta: E a metade da diferençaa entre o menor numero maior que 1 e 1:  2−6."
   ]
  },
  {
   "cell_type": "code",
   "execution_count": 80,
   "metadata": {},
   "outputs": [
    {
     "name": "stdout",
     "output_type": "stream",
     "text": [
      "Matrix U\n",
      " [[-0.57665761 -0.26475322  0.20227681 -0.68267581 -0.12287527 -0.26989528\n",
      "  -0.04967656]\n",
      " [-0.38965714 -0.05168531  0.3790551   0.47855097  0.29255893 -0.27871715\n",
      "   0.55635255]\n",
      " [-0.38656954 -0.24202952  0.02653058  0.07447878 -0.00347055  0.88370717\n",
      "   0.0691689 ]\n",
      " [-0.30593933 -0.42411547 -0.74426136  0.31044664 -0.01281674 -0.24376038\n",
      "  -0.12900276]\n",
      " [-0.4734154   0.54667963  0.12593643  0.29709786 -0.06886558 -0.03906455\n",
      "  -0.60549452]\n",
      " [-0.18638772  0.54425983 -0.46498244 -0.33566706  0.48296987  0.0870061\n",
      "   0.3151664 ]\n",
      " [-0.11720028  0.30611234 -0.16942204  0.0455959  -0.8131004  -0.0044385\n",
      "   0.44791132]]\n",
      "vector s\n",
      " [11.74394923  7.5337483   4.24310335  3.07027285  1.37542419]\n",
      "Matrix Vt\n",
      " [[-0.52416336 -0.73369711 -0.27836892 -0.3096623  -0.11645308]\n",
      " [ 0.31371682 -0.41883981 -0.38773195  0.69759287  0.29863538]\n",
      " [ 0.46407374  0.15986273 -0.72751321 -0.46139195 -0.13008254]\n",
      " [ 0.61663183 -0.49494852  0.48760029 -0.35222532  0.11390534]\n",
      " [ 0.17673505 -0.12542578  0.07172978  0.28377498 -0.93132148]]\n"
     ]
    }
   ],
   "source": [
    "#3 - Considere  a  decomposi ̧c ̃ao  SVD  completa  de  umaAm×n=Um×mΣm×mV>n×n,  comm > n.  \n",
    "#Sabendo  queU   ́e  uma  matriz  ortonormal e  V  tamb ́em   ́e  uma  matriz  ortonormal,  \n",
    "#mostre  queAA>=UΣ2U>e  queA>A=VΣ2V>.\n",
    "\n",
    "import numpy as np\n",
    "from sklearn import decomposition\n",
    "from scipy import linalg\n",
    "from sklearn.feature_extraction.text import CountVectorizer, TfidfVectorizer\n",
    "\n",
    "#A é uma Matriz de m = 7 e n = 5\n",
    "\n",
    "A = np.array([\n",
    "    [2,7,1,1,0],\n",
    "    [4,3,1,0,0],\n",
    "    [2,4,2,0,0],\n",
    "    [0,3,5,0,0],\n",
    "    [5,2,0,4,2],\n",
    "    [1,0,0,5,1],\n",
    "    [1,0,0,2,2]])\n",
    "\n",
    "    \n",
    "U, s, Vt = linalg.svd(A, full_matrices=True)\n",
    "print('Matrix U\\n',U)\n",
    "print('vector s\\n',s)\n",
    "print('Matrix Vt\\n',Vt)"
   ]
  },
  {
   "cell_type": "code",
   "execution_count": 12,
   "metadata": {},
   "outputs": [],
   "source": [
    "#Ao decompormos A temos:\n",
    "#U m = 7 e n = 7\n",
    "#s m = 5 e n = 5 -- Sua representação em forma de vetor  = uma matriz diagonal 5x5\n",
    "#Vt m = 5 e n = 5"
   ]
  },
  {
   "cell_type": "code",
   "execution_count": 29,
   "metadata": {},
   "outputs": [
    {
     "data": {
      "text/plain": [
       "True"
      ]
     },
     "execution_count": 29,
     "metadata": {},
     "output_type": "execute_result"
    }
   ],
   "source": [
    "#Verificando se U e Vt são ortonormais\n",
    "#Decompoe as matrizes em q(orthogonal) e r(Matriz superior triangular)\n",
    "#Se a matriz original puder ser escrita pelo produto desta decomposição então a matriz original é Ortonormal\n",
    "#q1,r1=np.linalg.qr(U,mode='complete')\n",
    "#np.allclose(U, np.dot(q1, r1))  \n",
    "\n",
    "#q2,r2=np.linalg.qr(Vt, mode='complete')\n",
    "#np.allclose(Vt, np.dot(q2, r2))  # U"
   ]
  },
  {
   "cell_type": "code",
   "execution_count": 63,
   "metadata": {},
   "outputs": [
    {
     "name": "stdout",
     "output_type": "stream",
     "text": [
      "[[  0.           0.           0.           0.           0.\n",
      "  137.92034347   0.           0.           0.           0.        ]\n",
      " [  0.           0.           0.           0.           0.\n",
      "    0.          56.75736345   0.           0.           0.        ]\n",
      " [  0.           0.           0.           0.           0.\n",
      "    0.           0.          18.00392601   0.           0.        ]\n",
      " [  0.           0.           0.           0.           0.\n",
      "    0.           0.           0.           9.42657536   0.        ]\n",
      " [  0.           0.           0.           0.           0.\n",
      "    0.           0.           0.           0.           1.8917917 ]\n",
      " [  0.           0.           0.           0.           0.\n",
      "    0.           0.           0.           0.           0.        ]\n",
      " [  0.           0.           0.           0.           0.\n",
      "    0.           0.           0.           0.           0.        ]\n",
      " [  0.           0.           0.           0.           0.\n",
      "    0.           0.           0.           0.           0.        ]\n",
      " [  0.           0.           0.           0.           0.\n",
      "    0.           0.           0.           0.           0.        ]\n",
      " [  0.           0.           0.           0.           0.\n",
      "    0.           0.           0.           0.           0.        ]]\n"
     ]
    }
   ],
   "source": [
    "#Elevando os termos de Sigma ao quadrado\n",
    "sPow = np.power(s,2)\n",
    "sMatrix = np.diag(sPow,k=5)\n",
    "print (sMatrix)"
   ]
  },
  {
   "cell_type": "code",
   "execution_count": 77,
   "metadata": {},
   "outputs": [
    {
     "name": "stdout",
     "output_type": "stream",
     "text": [
      "[[2 4 2 0 5 1 1]\n",
      " [7 3 4 3 2 0 0]\n",
      " [1 1 2 5 0 0 0]\n",
      " [1 0 0 0 4 5 2]\n",
      " [0 0 0 0 2 1 2]]\n",
      "\n",
      "\n",
      "[[-0.57665761 -0.38965714 -0.38656954 -0.30593933 -0.4734154  -0.18638772\n",
      "  -0.11720028]\n",
      " [-0.26475322 -0.05168531 -0.24202952 -0.42411547  0.54667963  0.54425983\n",
      "   0.30611234]\n",
      " [ 0.20227681  0.3790551   0.02653058 -0.74426136  0.12593643 -0.46498244\n",
      "  -0.16942204]\n",
      " [-0.68267581  0.47855097  0.07447878  0.31044664  0.29709786 -0.33566706\n",
      "   0.0455959 ]\n",
      " [-0.12287527  0.29255893 -0.00347055 -0.01281674 -0.06886558  0.48296987\n",
      "  -0.8131004 ]\n",
      " [-0.26989528 -0.27871715  0.88370717 -0.24376038 -0.03906455  0.0870061\n",
      "  -0.0044385 ]\n",
      " [-0.04967656  0.55635255  0.0691689  -0.12900276 -0.60549452  0.3151664\n",
      "   0.44791132]]\n"
     ]
    }
   ],
   "source": [
    "#Transpondo a matriz A\n",
    "At = np.matrix.transpose(A)\n",
    "Ut = np.matrix.transpose(U)\n",
    "V = np.matrix.transpose(Vt)\n",
    "\n",
    "print(At)\n",
    "print('\\n')\n",
    "print (Ut)"
   ]
  },
  {
   "cell_type": "code",
   "execution_count": 78,
   "metadata": {},
   "outputs": [
    {
     "data": {
      "text/plain": [
       "True"
      ]
     },
     "execution_count": 78,
     "metadata": {},
     "output_type": "execute_result"
    }
   ],
   "source": [
    "result1 = A @ At\n",
    "result2 = U[:,:5] @ np.diag(sPow) @ Ut[:5,:]\n",
    "\n",
    "\n",
    "np.allclose(result1,result2)\n"
   ]
  },
  {
   "cell_type": "code",
   "execution_count": 79,
   "metadata": {},
   "outputs": [
    {
     "data": {
      "text/plain": [
       "True"
      ]
     },
     "execution_count": 79,
     "metadata": {},
     "output_type": "execute_result"
    }
   ],
   "source": [
    "result1 = At @ A\n",
    "result2 = V @ np.diag(sPow) @ Vt\n",
    "np.allclose(result1,result2)"
   ]
  },
  {
   "cell_type": "code",
   "execution_count": null,
   "metadata": {},
   "outputs": [],
   "source": []
  },
  {
   "cell_type": "code",
   "execution_count": 114,
   "metadata": {},
   "outputs": [
    {
     "name": "stdout",
     "output_type": "stream",
     "text": [
      "True\n",
      "True\n"
     ]
    }
   ],
   "source": [
    "#4- \n",
    "\n",
    "C = np.array([[1, -1], \n",
    "              [0, 1],\n",
    "              [1, 0],\n",
    "              [-1, 1]])\n",
    "\n",
    "U, s, Vt = linalg.svd(C, full_matrices=True)\n",
    "\n",
    "#print (U)\n",
    "#print ('\\n')\n",
    "#print(s)\n",
    "#print ('\\n')\n",
    "#print(Vt)\n",
    "\n",
    "#Para comprovarmos a Ortonormalidade de uma matriz basta multiplicar pela sua transposta \n",
    "#e verificar se o resultado é a Identidade portanto:\n",
    "\n",
    "#Verificando U\n",
    "#print (U.shape)\n",
    "\n",
    "iU = np.identity(4)\n",
    "#print(iU)\n",
    "Ut = np.matrix.transpose(U)\n",
    "\n",
    "print(np.allclose(iU, (U @Ut)))\n",
    "\n",
    "\n",
    "#Verificando Vt\n",
    "#print (Vt.shape)\n",
    "\n",
    "iV = np.identity(2)\n",
    "V = np.matrix.transpose(Vt)\n",
    "\n",
    "print(np.allclose(iV, (Vt @V)))"
   ]
  },
  {
   "cell_type": "code",
   "execution_count": 125,
   "metadata": {},
   "outputs": [
    {
     "name": "stdout",
     "output_type": "stream",
     "text": [
      "True\n"
     ]
    }
   ],
   "source": [
    "#Mostrar que U, s e Vt) é SVD de C\n",
    "result1= U[:,:2] @ np.diag(s[:2]) @ Vt[:2,:]\n",
    "print(np.allclose(C,result1))"
   ]
  },
  {
   "cell_type": "code",
   "execution_count": null,
   "metadata": {},
   "outputs": [],
   "source": [
    "#5 - Suponha que a matrizCdo exerc ́ıcio anterior denota a opini ̃ao de quatro usu ́arios sobre dois sites \n",
    "#na Internet(-1: negativa, 0: neutra, 1: positiva).  Queremos adicionar informa ̧c ̃ao sobre \n",
    "#um novo usu ́ario que tem opini ̃aopositiva sobre os dois sitesw= (1,1) `\n",
    "#a matrizU, sem recalcular o SVD. Como seria a representa ̧c ̃ao desteusu ́ario?\n",
    "\n",
    "#Podemos adicionar um linha em U com icognitas X e Y e a partir da formula SVD \n",
    "#Obteriamos um sistema e assim o valor deste novo usuário seria representado."
   ]
  }
 ],
 "metadata": {
  "kernelspec": {
   "display_name": "Python 3",
   "language": "python",
   "name": "python3"
  },
  "language_info": {
   "codemirror_mode": {
    "name": "ipython",
    "version": 3
   },
   "file_extension": ".py",
   "mimetype": "text/x-python",
   "name": "python",
   "nbconvert_exporter": "python",
   "pygments_lexer": "ipython3",
   "version": "3.7.1"
  }
 },
 "nbformat": 4,
 "nbformat_minor": 2
}
