{
 "cells": [
  {
   "attachments": {},
   "cell_type": "markdown",
   "metadata": {},
   "source": [
    "Nome: Guilherme Mendes de Oliveira\n",
    "\n",
    "\n",
    "# 1\n",
    "\t\t\t\t\n",
    "\t3\tA\tB\t\n",
    "\tC\t4\tD\t\n",
    "\tE\t12\t42\t\n",
    "\tF\tG\t28\t\n",
    "\t1\t2\tH\t\n",
    "\t\t\t\t\n",
    "\t\t\t\t\n",
    "Uma matriz de Posto 1 significa que todas suas linhas são multiplas umas das outras e suas colunas tambem\n",
    "Dito isto para acharmos através da última linha, por temos os menores valores apresentados:\n",
    "Em relação a terceira linha temos que 12/2 = 6\n",
    "Portanto: 6H = 42\n",
    "          H=7\n",
    "          E = 6*1\n",
    "          E = 6\n",
    "\n",
    "\t\t\t\t\t\n",
    "\t\t3\tA\tB\t\n",
    "\t\tC\t4\tD\t\n",
    "\t\t6\t12\t42\t\n",
    "\t\tF\tG\t28\t\n",
    "\t\t1\t2\t7\t\n",
    "\n",
    "\n",
    "Entre a 4° e 5° linha temos a razão iguala 4 obtida pela divisao de 28 por 7 (H) logo:\n",
    "          F = 4*1\n",
    "          F = 4\n",
    "          G = 2*4\n",
    "          G = 8 \n",
    "          \n",
    "          \t\t\t\t\t\n",
    "\t\t3\tA\tB\t\n",
    "\t\tC\t4\tD\t\n",
    "\t\t6\t12\t42\t\n",
    "\t\t4\t8\t28\t\n",
    "\t\t1\t2\t7\t\n",
    "\n",
    "Entre a 1ª e a 5° linha temos a razão igual a 3 obtida pela divisão de 3/1 logo:\n",
    "          A = 3*2\n",
    "          A = 6\n",
    "          B=3*7\n",
    "          B = 21\n",
    "\n",
    "\t\t\t\t\n",
    "\t3\t6\t21\t\n",
    "\tC\t4\tD\t\n",
    "\t6\t12\t42\t\n",
    "\t4\t8\t28\t\n",
    "\t1\t2\t7\t\n",
    "    \n",
    "Entre a 2° e a 5 °linha temos a razão igual a 2 obtida pela divisão de 4/2 logo:\n",
    "         C = 2*1\n",
    "         C = 2 \n",
    "         D = 2*7\n",
    "         D = 14\n",
    "         \n",
    " Resposta: A matriz original é:\n",
    "     \t\t\t\t\t\n",
    "\t\t3\t6\t21\t\n",
    "\t\t2\t4\t14\t\n",
    "\t\t6\t12\t42\t\n",
    "\t\t4\t8\t28\t\n",
    "\t\t1\t2\t7\t\n",
    "\n"
   ]
  },
  {
   "attachments": {},
   "cell_type": "markdown",
   "metadata": {},
   "source": [
    "# 2\n",
    "\n",
    "\n",
    "\t\tm=  [ 1,8\t3\t4\t2,4\t...]\t\t\t\t\t\t\t\t\t\t\t\t\t\t\t\n",
    "\t\t\t\t\t\t\t\t\t\t\t\t\t\t\t\t\t\t\n",
    "\t\t\t\t\t\t\t\t\t\t\t\t\t\t\t\t\t\t\n",
    "\t\t\t\t\t\t\t\t\t\t\t\t\t\t\t\t\t\t\n",
    "\t\t\t\t\t3\t4\t3\t1\t...\t\t\t\t\t\t\t\t\t\n",
    "\t\t\t\t\t1\t2\t5\t3\t...\t\t\t\t\t\t\t\t\t\n",
    "\t\tMatriz A \t2\t?\t?\t4\t...\t\t-\t\t\n",
    "\t\t\t\t\t1\t?\t?\t1\t...\t\t\t\t\t\t\t\t\t\n",
    "\t\t\t\t\t2\t4\t5\t3\t...\t\t\t\t\t\t\t\t\t\n",
    "\t\t\t\t\t...\t...\t...\t...\t...\t\t\n",
    "   \n",
    "   B = A - m\n",
    "       \n",
    "       \t\t\t\t\t\t\t\n",
    "\t\t\t\t\t\t\t\n",
    "            1,2\t   1,0\t -1,0\t-1,4\t...\t\n",
    "\t\t   -0,8\t  -1,0\t 2,0\t0,6\t    ...\t\n",
    "\t\t    0,2\t  ?-3\t ?-4\t1,6\t    ...\t      \n",
    "\t\t   -0,8\t  ?-3\t ?-4\t-1,4\t...\t\n",
    "\t\t    0,2\t  1,0\t 1,0\t0,6\t    ...\t\n",
    "            ...\t  ...\t ...    ...     ...\t\n",
    "\n",
    "#B)\n",
    "\n",
    "   B = \n",
    "       \n",
    "       \t\t\t\t\t\t\t\n",
    "\t\t\t\t\t\t\t\n",
    "            1,2\t   1,0\t -1,0\t-1,4\t...\t\n",
    "\t\t   -0,8\t  -1,0\t 2,0\t0,6\t    ...\t\n",
    "\t\t    0,2\t  ?-3\t ?-4\t1,6\t    ...\t                 \n",
    "\t\t   -0,8\t  ?-3\t ?-4\t-1,4\t...\t\n",
    "\t\t    0,2\t  1,0\t 1,0\t0,6\t    ...\t\n",
    "            ...\t  ...\t ...    ...     ...\t\n",
    "            \n",
    "            \n",
    "\n",
    "  u= [ -0,05  -0,05  0,45  -1,05  0,7 ]\n",
    "  \n",
    "  C = B-u\n",
    "  \n",
    "  \t\t\t\t\t\t\t\n",
    "\t\t1,25\t 1,05\t      -1,45\t       -0,35\t...\t\n",
    "\t   -0,75\t -0,95\t       1,55\t        1,65\t...\t\n",
    "\t\t0,25\t (?-3)-0,05\t  (?-4)-0,45\t2,65\t...\t\n",
    "\t   -0,75\t (?-3)-0,05\t  (?-4)-0,45   -0,35\t...\t\n",
    "\t\t0,25\t 1,05\t       0,55\t        1,65\t...\t\n",
    "\t\t...\t      ...\t        ...\t         ...\t...\t\n",
    "\n",
    "  \n",
    "  \n",
    "  "
   ]
  },
  {
   "cell_type": "code",
   "execution_count": 1,
   "metadata": {},
   "outputs": [],
   "source": [
    "#C)\n",
    "\n",
    "import numpy as np\n",
    "\n",
    "U = np.array ([[-.62, -.42], \n",
    "              [.47, .22],\n",
    "              [.5, -.6],\n",
    "              [-.38, .19],\n",
    "              [.03, .61]])\n",
    "\n",
    "s = [3.63, 1.05]\n",
    "\n",
    "Vt = np.array ([[-.38,-.61, .48, .51],\n",
    "                [-.75, .59, .28, -.11]])\n",
    "\n",
    "C = U @ np.diag(s) @ Vt\n"
   ]
  },
  {
   "cell_type": "code",
   "execution_count": 34,
   "metadata": {},
   "outputs": [
    {
     "name": "stdout",
     "output_type": "stream",
     "text": [
      "Usuário 2\n",
      "\n",
      "Filme 1\n",
      "-1.4788499999999998\n",
      "Filme 2\n",
      "0.6948\n",
      "Filme \n",
      "\n",
      "Usuário 3\n",
      "\n",
      "Filme 1\n",
      "0.959139\n",
      "Filme 2\n",
      "-0.6062519999999999\n"
     ]
    }
   ],
   "source": [
    "print('Usuário 2\\n')\n",
    "print ('Filme 1')\n",
    "print (C[2][1])\n",
    "\n",
    "print ('Filme 2')\n",
    "print (C[2][2])\n",
    "print ('Filme \\n')\n",
    "print('Usuário 3\\n')\n",
    "print ('Filme 1')\n",
    "print (C[3][1])\n",
    "\n",
    "print ('Filme 2')\n",
    "print (C[3][2])"
   ]
  },
  {
   "cell_type": "markdown",
   "metadata": {},
   "source": [
    "#3\n",
    "\n",
    "Assinale V ou F e justifique:\n",
    "\n",
    "(F) Em alguns casos é possível usar o NMF para reconstruir de maneira exata uma matriz A e R ^mxn\n",
    "mesmo que alguns elementos de A sejam negativos.\n",
    "\n",
    "Justificativa: Em uma reconstrução por NMF ignoram-se os valores negativos na recomposição portanto não é possível obter a mesma matriz A pois alguns valores não vão ser utilizados\n",
    "\n",
    "(V) Considere uma matriz A em que pode se aplicar tanto SVD quanto NMF. O erro (Frobenius) da\n",
    "aproximaÇão de posto k obtida pelo SVD será menor ou igual que o da aproximaÇão de posto k obtida pelo NMF.\n",
    "\n",
    "Justificativa: A norma de Frobenius mede o grau de aproximação da Matriz \"reconstruida\" com a original pelo fato do NMF desprezar valores negativos sua aproximação será mais distante que o SVD por isto a norma de Frobenius do NMF será maior que a norma de Frobenius do SVD."
   ]
  },
  {
   "cell_type": "markdown",
   "metadata": {},
   "source": [
    "#4"
   ]
  },
  {
   "cell_type": "code",
   "execution_count": 22,
   "metadata": {},
   "outputs": [
    {
     "name": "stdout",
     "output_type": "stream",
     "text": [
      "13.0\n",
      "17.0\n",
      "12.074814532664146\n",
      "12.083045973594572\n"
     ]
    }
   ],
   "source": [
    "from numpy import linalg as LA\n",
    "\n",
    "A = np.array = ([[3, 0 ,2],\n",
    "                 [9, 1, 7],\n",
    "                 [1, 0, 1]])\n",
    "\n",
    "norma1 = LA.norm(A,1)\n",
    "normaInfinito = LA.norm(A, np.inf)\n",
    "norma2 =  LA.norm(A,2)\n",
    "normaFrobenius = LA.norm(A,'fro')\n",
    "\n",
    "print(norma1)\n",
    "print(normaInfinito)\n",
    "print(norma2)\n",
    "print(normaFrobenius)"
   ]
  },
  {
   "cell_type": "markdown",
   "metadata": {},
   "source": [
    "#5"
   ]
  },
  {
   "cell_type": "markdown",
   "metadata": {},
   "source": [
    "A)\n",
    "\n",
    "K deve ser o valor minimo entre m,n a matriz é 1024x768 logo o valor de K é 768\n",
    "\n",
    "B)\n",
    "O valor de K continuaria sendo o valor minimo entre m e n no caso seria 100 e na outra matriz 1000\n"
   ]
  }
 ],
 "metadata": {
  "kernelspec": {
   "display_name": "Python 3",
   "language": "python",
   "name": "python3"
  },
  "language_info": {
   "codemirror_mode": {
    "name": "ipython",
    "version": 3
   },
   "file_extension": ".py",
   "mimetype": "text/x-python",
   "name": "python",
   "nbconvert_exporter": "python",
   "pygments_lexer": "ipython3",
   "version": "3.7.1"
  }
 },
 "nbformat": 4,
 "nbformat_minor": 2
}
