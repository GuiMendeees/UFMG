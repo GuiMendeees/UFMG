{
 "cells": [
  {
   "cell_type": "markdown",
   "metadata": {},
   "source": [
    "NOME: GUILHERME MENDES DE OLIVEIRA\n",
    "\n",
    "\n",
    "1a)"
   ]
  },
  {
   "cell_type": "code",
   "execution_count": 19,
   "metadata": {},
   "outputs": [],
   "source": [
    "import numpy as np\n",
    "\n",
    "def calculaNorma(m):\n",
    "\n",
    "    W = np.random.rand(m,4)\n",
    "    W2 = W/np.sqrt(m)\n",
    "    Z = W2.transpose()@W2\n",
    "    print (Z)\n",
    "    n = np.linalg.norm((Z-np.identity(4)),'fro')\n",
    "    return n"
   ]
  },
  {
   "cell_type": "markdown",
   "metadata": {},
   "source": [
    "1b)"
   ]
  },
  {
   "cell_type": "code",
   "execution_count": null,
   "metadata": {
    "scrolled": true
   },
   "outputs": [],
   "source": [
    "calculaNorma(1000)\n",
    "print('\\n')\n",
    "calculaNorma(10000)"
   ]
  },
  {
   "cell_type": "markdown",
   "metadata": {},
   "source": [
    "1c)\n",
    "\n",
    "\n",
    "Podemos dizer que essa matriz após ser decrescida de sua média é centralizada e após ser dividida pela sua norma é Normalizada\n"
   ]
  },
  {
   "cell_type": "markdown",
   "metadata": {},
   "source": [
    "2a)"
   ]
  },
  {
   "cell_type": "code",
   "execution_count": 18,
   "metadata": {},
   "outputs": [
    {
     "name": "stdout",
     "output_type": "stream",
     "text": [
      "[0.10714286 0.21428571 0.32142857]\n",
      "[0.04761905 0.0952381  0.14285714]\n",
      "[0.1547619  0.30952381 0.46428571]\n"
     ]
    }
   ],
   "source": [
    "x = np.array([1, 2, 3])\n",
    "u = np.array([1, 1, 0])\n",
    "v = np.array([1, -1, 1])\n",
    "\n",
    "#Normalizando os vetores\n",
    "uT = u.T/np.linalg.norm(u.T,2)\n",
    "vT = v.T/np.linalg.norm(v.T,2)\n",
    "xT = x.T/np.linalg.norm(x.T,2)\n",
    "\n",
    "#Calculando a projeção (Produto Interno de X vezes vetor Base/ Norma 2 da Base)\n",
    "xU = np.dot(xT,uT)/np.linalg.norm(u.T,2)*xT\n",
    "xV = np.dot(xT,vT)/np.linalg.norm(v.T,2)*xT\n",
    "\n",
    "print(xU)\n",
    "print(xV)"
   ]
  },
  {
   "cell_type": "markdown",
   "metadata": {},
   "source": [
    "2b)\n",
    "\n",
    "Porque essa recomposição leva em consideração apenas dois eixos do vetor para ter uma recomposição exata precisaria de um outro vetor Base para ser gerado um eixo Z"
   ]
  },
  {
   "cell_type": "markdown",
   "metadata": {},
   "source": [
    "3)"
   ]
  },
  {
   "cell_type": "code",
   "execution_count": 20,
   "metadata": {},
   "outputs": [
    {
     "data": {
      "text/plain": [
       "array([[ 1.   , -0.566, -0.193,  0.869],\n",
       "       [-0.566,  1.   ,  0.254, -0.085],\n",
       "       [-0.193,  0.254,  1.   , -0.06 ],\n",
       "       [ 0.869, -0.085, -0.06 ,  1.   ]])"
      ]
     },
     "execution_count": 20,
     "metadata": {},
     "output_type": "execute_result"
    }
   ],
   "source": [
    "dados = np.array ([[90, 80, 60, 95],\n",
    "               [65, 75, 90, 70],\n",
    "               [40, 90, 60, 55],\n",
    "               [80, 60, 59, 75],\n",
    "               [60, 100, 80, 80]\n",
    "              ])\n",
    "#Calculo de Média e do Desvio Padrão das linhas\n",
    "mu = np.mean(dados,axis=0)\n",
    "sigma2 = np.var(dados,axis=0,ddof=1)\n",
    "\n",
    "#Dados Centralizados\n",
    "dadosCenter = dados - mu\n",
    "\n",
    "\n",
    "#Dados Normalizados \n",
    "dadosNorm = dadosCenter/np.sqrt(sigma2)\n",
    "\n",
    "#Matriz Covariancia\n",
    "m,n = dadosNorm.shape\n",
    "dadosCov = dadosNorm.T@dadosNorm /(m - 1)\n",
    "#dadosCov = np.cov(dadosNorm)\n",
    "np.set_printoptions(precision=3 )\n",
    "dadosCov"
   ]
  },
  {
   "cell_type": "markdown",
   "metadata": {},
   "source": [
    "4)\n",
    "\n",
    "V\n",
    "V\n",
    "F\n",
    "F\n",
    "F\n",
    "F"
   ]
  },
  {
   "cell_type": "code",
   "execution_count": null,
   "metadata": {},
   "outputs": [],
   "source": []
  }
 ],
 "metadata": {
  "kernelspec": {
   "display_name": "Python 3",
   "language": "python",
   "name": "python3"
  },
  "language_info": {
   "codemirror_mode": {
    "name": "ipython",
    "version": 3
   },
   "file_extension": ".py",
   "mimetype": "text/x-python",
   "name": "python",
   "nbconvert_exporter": "python",
   "pygments_lexer": "ipython3",
   "version": "3.7.1"
  }
 },
 "nbformat": 4,
 "nbformat_minor": 2
}
