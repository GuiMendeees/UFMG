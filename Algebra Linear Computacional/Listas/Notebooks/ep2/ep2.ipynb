{
 "cells": [
  {
   "cell_type": "markdown",
   "metadata": {},
   "source": [
    "Before you turn this problem in, make sure everything runs as expected. First, **restart the kernel** (in the menubar, select Kernel$\\rightarrow$Restart) and then **run all cells** (in the menubar, select Cell$\\rightarrow$Run All).\n",
    "\n",
    "Make sure you fill in any place that says `YOUR CODE HERE` or \"YOUR ANSWER HERE\", as well as your name and collaborators below:"
   ]
  },
  {
   "cell_type": "code",
   "execution_count": 85,
   "metadata": {},
   "outputs": [],
   "source": [
    "NAME = \"Guilherme Mendes de Oliveira\"\n",
    "COLLABORATORS = \"\""
   ]
  },
  {
   "cell_type": "markdown",
   "metadata": {},
   "source": [
    "---"
   ]
  },
  {
   "cell_type": "markdown",
   "metadata": {
    "deletable": false,
    "editable": false,
    "nbgrader": {
     "checksum": "d28ee5707e40ad1202c1067e58cfff97",
     "grade": false,
     "grade_id": "cell-4fa496f287deac73",
     "locked": true,
     "schema_version": 1,
     "solution": false
    }
   },
   "source": [
    "# Exercício Prático 2: SVD truncado\n",
    "\n",
    "Neste exercício vamos estudar as aproximações obtidas pelo SVD truncado. Vamos começar carregando os dados do 20_newsgroups, conforme visto em sala."
   ]
  },
  {
   "cell_type": "code",
   "execution_count": 86,
   "metadata": {
    "deletable": false,
    "editable": false,
    "nbgrader": {
     "checksum": "706006544d7257fac71916e2243a056e",
     "grade": false,
     "grade_id": "cell-893ffaa91c1d2825",
     "locked": true,
     "schema_version": 1,
     "solution": false
    }
   },
   "outputs": [],
   "source": [
    "import numpy as np\n",
    "from sklearn.datasets import fetch_20newsgroups\n",
    "from sklearn import decomposition\n",
    "from scipy import linalg\n",
    "import matplotlib.pyplot as plt\n",
    "from sklearn.feature_extraction.text import CountVectorizer\n",
    "%matplotlib inline\n",
    "np.set_printoptions(suppress=True)"
   ]
  },
  {
   "cell_type": "code",
   "execution_count": 87,
   "metadata": {
    "deletable": false,
    "editable": false,
    "nbgrader": {
     "checksum": "fc1531f02675993f571adf4c074b2591",
     "grade": false,
     "grade_id": "cell-b08bf37b0b3bba73",
     "locked": true,
     "schema_version": 1,
     "solution": false
    }
   },
   "outputs": [
    {
     "data": {
      "text/plain": [
       "(2034, 26576)"
      ]
     },
     "execution_count": 87,
     "metadata": {},
     "output_type": "execute_result"
    }
   ],
   "source": [
    "categories = ['alt.atheism', 'talk.religion.misc', 'comp.graphics', 'sci.space']\n",
    "remove = ('headers', 'footers', 'quotes')\n",
    "newsgroups_train = fetch_20newsgroups(subset='train', categories=categories, remove=remove)\n",
    "\n",
    "vectorizer = CountVectorizer(stop_words='english')\n",
    "vectors = vectorizer.fit_transform(newsgroups_train.data).todense() # (documents, vocab)\n",
    "vectors.shape #, vectors.nnz / vectors.shape[0], row_means.shape"
   ]
  },
  {
   "cell_type": "code",
   "execution_count": 88,
   "metadata": {
    "deletable": false,
    "editable": false,
    "nbgrader": {
     "checksum": "76fa8c69ce5d57ddcc87f1f4ed0f8a92",
     "grade": false,
     "grade_id": "cell-2a7982b4f142dc38",
     "locked": true,
     "schema_version": 1,
     "solution": false
    }
   },
   "outputs": [
    {
     "name": "stdout",
     "output_type": "stream",
     "text": [
      "Wall time: 16.4 s\n"
     ]
    }
   ],
   "source": [
    "%time U, s, Vt = linalg.svd(vectors, full_matrices=False)"
   ]
  },
  {
   "cell_type": "markdown",
   "metadata": {
    "deletable": false,
    "editable": false,
    "nbgrader": {
     "checksum": "5b521b82d29f027664dfa9d303f98cb6",
     "grade": false,
     "grade_id": "cell-63ce74c39ad4b986",
     "locked": true,
     "schema_version": 1,
     "solution": false
    }
   },
   "source": [
    "## Questão 1\n",
    "\n",
    "Plote uma curva contendo os valores singulares $s$."
   ]
  },
  {
   "cell_type": "code",
   "execution_count": 89,
   "metadata": {
    "deletable": false,
    "nbgrader": {
     "checksum": "68a2a1364cdfa2f7a3525681c0b7a259",
     "grade": false,
     "grade_id": "cell-149f7d33544a28ba",
     "locked": false,
     "schema_version": 1,
     "solution": true
    }
   },
   "outputs": [
    {
     "data": {
      "text/plain": [
       "Text(0, 0.5, 'valores singulares')"
      ]
     },
     "execution_count": 89,
     "metadata": {},
     "output_type": "execute_result"
    },
    {
     "data": {
      "image/png": "[encoded data removed]",
      "text/plain": [
       "<Figure size 432x288 with 1 Axes>"
      ]
     },
     "metadata": {
      "needs_background": "light"
     },
     "output_type": "display_data"
    }
   ],
   "source": [
    "# solucao da Questao 1\n",
    "\n",
    "# YOUR CODE HERE\n",
    "plt.plot(s)\n",
    "#raise NotImplementedError()\n",
    "plt.ylabel('valores singulares')"
   ]
  },
  {
   "cell_type": "markdown",
   "metadata": {
    "deletable": false,
    "editable": false,
    "nbgrader": {
     "checksum": "97b7c77c31e81abdac5472f7e83494c3",
     "grade": false,
     "grade_id": "cell-eace73eb188d7d14",
     "locked": true,
     "schema_version": 1,
     "solution": false
    }
   },
   "source": [
    "## Questão 2\n",
    "\n",
    "Repita o gráfico da questão anterior, mas desta vez, tente dar um \"zoom\" para mostrar onde está o joelho da curva, ou seja, o ponto a partir do qual os valores passam a ser muito baixos. Para isto, você pode pegar um slice de ```s```, ou usar a função ```plt.xlims```."
   ]
  },
  {
   "cell_type": "code",
   "execution_count": 96,
   "metadata": {
    "deletable": false,
    "nbgrader": {
     "checksum": "bccb5083fca5804b482a22a4c8ba1c47",
     "grade": true,
     "grade_id": "cell-95f0c2dd4e490335",
     "locked": false,
     "points": 1,
     "schema_version": 1,
     "solution": true
    }
   },
   "outputs": [
    {
     "data": {
      "text/plain": [
       "Text(0, 0.5, 'valores singulares')"
      ]
     },
     "execution_count": 96,
     "metadata": {},
     "output_type": "execute_result"
    },
    {
     "data": {
      "image/png": "[encoded data removed]",
      "text/plain": [
       "<Figure size 432x288 with 1 Axes>"
      ]
     },
     "metadata": {
      "needs_background": "light"
     },
     "output_type": "display_data"
    }
   ],
   "source": [
    "# solucao da Questao 2\n",
    "\n",
    "# YOUR CODE HERE\n",
    "plt.plot(s[:30])\n",
    "#raise NotImplementedError()\n",
    "plt.ylabel('valores singulares')"
   ]
  },
  {
   "cell_type": "markdown",
   "metadata": {
    "deletable": false,
    "editable": false,
    "nbgrader": {
     "checksum": "92955e90b104553e921bc94676bcc793",
     "grade": false,
     "grade_id": "cell-5e42a1572f906132",
     "locked": true,
     "schema_version": 1,
     "solution": false
    }
   },
   "source": [
    "## Questão 3\n",
    "\n",
    "Seja $A$ uma matriz $m \\times n$. O SVD reduzido de $A$ retorna $U_{m \\times k}$, $\\Sigma_{k \\times k}$ e $V^\\top_{k \\times n}$, onde $k = \\min(m,n)$. Já o SVD truncado de posto $r < \\min(m,n)$ retorna apenas as $r$ primeiras colunas de $U$, os $r$ maiores valores singulares de $\\Sigma$ e as $r$ primeiras linhas de $V^\\top$.\n",
    "\n",
    "Uma propriedade importante do SVD truncado é que ele retorna a melhor aproximação $A_r$ para uma matriz $A$ dentre todas as matrizes de posto $r$, onde a qualidade da aproximação é medida por $\\| A - A_r \\|_F$, sendo $\\| B \\|_F = \\sqrt{\\sum_i \\sum_j B_{i,j}^2}$ a norma de Frobenius de uma matriz $B$.\n",
    "\n",
    "Nesta questão, vamos ver como a qualidade da aproximação aumenta com $r$, variando $r$ em $\\{1,2,4,\\ldots,2^7\\}$. Primeiramente, vamos encontrar a decomposição SVD reduzida para a matriz ```vectors```. Depois disso, vamos variar o número $r$ de valores singulares considerados para encontrar aproximações $A_r$ para, finalmente, calcular $\\| A - A_r \\|_F$. Para facilitar a resolução deste problema, parte do código já foi fornecida. Para calcular a norma Frobenius, consulte a documentação de ```np.linalg.norm```."
   ]
  },
  {
   "cell_type": "code",
   "execution_count": 91,
   "metadata": {
    "deletable": false,
    "nbgrader": {
     "checksum": "126cafd88a6ed14306fcbe0afb29f3ce",
     "grade": true,
     "grade_id": "cell-740d5eb656e18dd3",
     "locked": false,
     "points": 3,
     "schema_version": 1,
     "solution": true
    }
   },
   "outputs": [
    {
     "data": {
      "text/plain": [
       "Text(0.5, 0, 'r')"
      ]
     },
     "execution_count": 91,
     "metadata": {},
     "output_type": "execute_result"
    },
    {
     "data": {
      "image/png": "[encoded data removed]",
      "text/plain": [
       "<Figure size 432x288 with 1 Axes>"
      ]
     },
     "metadata": {
      "needs_background": "light"
     },
     "output_type": "display_data"
    }
   ],
   "source": [
    "m,n = vectors.shape\n",
    "k = min(m,n)\n",
    "\n",
    "A_r = np.zeros((m,n))\n",
    "erro = np.zeros(8)\n",
    "\n",
    "#Eleva r a uma potencia de um Array de 0 a 7\n",
    "r_values = 2**np.arange(8)\n",
    "#Laço for roda 7 vezes\n",
    "for i in range(len(r_values)):\n",
    "    r = r_values[i]\n",
    "\n",
    "    u, sg, vt = decomposition.randomized_svd(vectors, r)\n",
    "    A_r = u@np.diag(sg)@vt\n",
    "    erro[i]=linalg.norm((vectors-A_r))\n",
    "    #raise NotImplementedError()\n",
    "\n",
    "# código para plotar o vetor erro\n",
    "\n",
    "plt.plot(erro)\n",
    "#raise NotImplementedError()\n",
    "plt.ylabel(r'Erro $\\|A-A_r\\|_F$')\n",
    "plt.xlabel('r')"
   ]
  },
  {
   "cell_type": "markdown",
   "metadata": {
    "deletable": false,
    "editable": false,
    "nbgrader": {
     "checksum": "9fb1f2a0c4fed4f2d7eb255163bc6b6a",
     "grade": false,
     "grade_id": "cell-3bf208fff37c16c8",
     "locked": true,
     "schema_version": 1,
     "solution": false
    }
   },
   "source": [
    "## Questão 4\n",
    "\n",
    "Vamos criar e implementar uma heurística para a escolha de $k$. Deseja-se obter uma representação de baixa dimensão $k$ para a matriz ```vectors```. Implemente uma função que recebe um vetor de valores singulares em ordem descrente e retorna o número de valores singulares que é maior ou igual a 2x a média. (Dica: você pode usar ```np.mean```)."
   ]
  },
  {
   "cell_type": "code",
   "execution_count": 92,
   "metadata": {
    "deletable": false,
    "nbgrader": {
     "checksum": "1020907ed76fb18f6047cbbf0d61c33e",
     "grade": false,
     "grade_id": "cell-2864944c1e8f7a36",
     "locked": false,
     "schema_version": 1,
     "solution": true
    }
   },
   "outputs": [],
   "source": [
    "# solucao da Questao 4\n",
    "\n",
    "def escolheK(s):\n",
    "    \"\"\" Retorna o inteiro k contendo o número de valores singulares que é pelo menos 2x maior que a média.\n",
    "    \n",
    "        Entrada:\n",
    "            s é um vetor contendo os valores singulares em ordem decrescente\n",
    "    \"\"\"\n",
    "    k = 0\n",
    "    # YOUR CODE HERE\n",
    "    for i in range(len(s)):    \n",
    "        if s[i] >= (2*np.mean(s)):\n",
    "            k=i+1\n",
    "    #raise NotImplementedError()\n",
    "    return k"
   ]
  },
  {
   "cell_type": "code",
   "execution_count": 93,
   "metadata": {
    "deletable": false,
    "editable": false,
    "nbgrader": {
     "checksum": "c9957f2e77c9b6baedad5b88913b314e",
     "grade": true,
     "grade_id": "cell-4dbfc342c28b8a04",
     "locked": true,
     "points": 1,
     "schema_version": 1,
     "solution": false
    }
   },
   "outputs": [
    {
     "name": "stdout",
     "output_type": "stream",
     "text": [
      "[1000  900  800  700  600  500  400  300  200  100   90   80   70   60\n",
      "   50   40   30   20   10    9    8    7    6    5    4    3    2]\n"
     ]
    }
   ],
   "source": [
    "s_example = np.hstack((np.arange(1000,100,-100),np.arange(100,10,-10),np.arange(10,1,-1)))\n",
    "print(s_example)\n",
    "\n",
    "assert escolheK(s_example) == 6\n",
    "assert escolheK(s) == 191"
   ]
  }
 ],
 "metadata": {
  "kernelspec": {
   "display_name": "Python 3",
   "language": "python",
   "name": "python3"
  },
  "language_info": {
   "codemirror_mode": {
    "name": "ipython",
    "version": 3
   },
   "file_extension": ".py",
   "mimetype": "text/x-python",
   "name": "python",
   "nbconvert_exporter": "python",
   "pygments_lexer": "ipython3",
   "version": "3.6.4"
  }
 },
 "nbformat": 4,
 "nbformat_minor": 2
}
