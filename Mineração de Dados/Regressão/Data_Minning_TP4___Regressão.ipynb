{
  "nbformat": 4,
  "nbformat_minor": 0,
  "metadata": {
    "colab": {
      "provenance": [],
      "collapsed_sections": [
        "JED4_8x14qTU",
        "NqNCF-dL4u_h"
      ]
    },
    "kernelspec": {
      "name": "python3",
      "display_name": "Python 3"
    },
    "language_info": {
      "name": "python"
    }
  },
  "cells": [
    {
      "cell_type": "markdown",
      "source": [
        "# **Proposta de Trabalho 4 - Mineração de dados**\n",
        "\n",
        "### **Professor:** Wagner Meira Jr.\n",
        "### **Aluno:**  Guilherme Mendes de Oliveira\n",
        "### **Matrícula** 2018046939\n",
        "\n",
        "\n",
        "### **Tema:** Regressão Colônias de Abelha\n",
        "### **Base de dados:**"
      ],
      "metadata": {
        "id": "3979InbUuY2U"
      }
    },
    {
      "cell_type": "markdown",
      "source": [
        "# Importando Bibliotecas e Dataset"
      ],
      "metadata": {
        "id": "JED4_8x14qTU"
      }
    },
    {
      "cell_type": "code",
      "execution_count": null,
      "metadata": {
        "id": "oK8sI4GHuRIa"
      },
      "outputs": [],
      "source": [
        "import pandas as pd\n",
        "import numpy as np\n",
        "import matplotlib.pyplot as plt\n",
        "import seaborn as sns\n",
        "import pandas as pd\n",
        "from sklearn import preprocessing\n",
        "from sklearn.linear_model import LinearRegression\n",
        "from sklearn.svm import LinearSVR,LinearSVC\n",
        "from sklearn.model_selection import train_test_split\n",
        "from sklearn.metrics import mean_squared_error,r2_score\n",
        "from sklearn.feature_selection import RFE\n",
        "import warnings\n"
      ]
    },
    {
      "cell_type": "code",
      "source": [
        "warnings.filterwarnings(\"ignore\")"
      ],
      "metadata": {
        "id": "vJkDpYaMPiVu"
      },
      "execution_count": null,
      "outputs": []
    },
    {
      "cell_type": "code",
      "source": [
        "dfMel = pd.read_csv('https://raw.githubusercontent.com/GuiMendeees/-Dadostp4_Dataminning/main/US_honey_dataset_updated.csv',)"
      ],
      "metadata": {
        "id": "AbngyEAZujgc"
      },
      "execution_count": null,
      "outputs": []
    },
    {
      "cell_type": "markdown",
      "source": [
        "#Entendimento dos Dados"
      ],
      "metadata": {
        "id": "NqNCF-dL4u_h"
      }
    },
    {
      "cell_type": "code",
      "source": [
        "dfMel.shape"
      ],
      "metadata": {
        "colab": {
          "base_uri": "https://localhost:8080/"
        },
        "id": "S7TILEFTwFmv",
        "outputId": "5897de5a-502b-430d-fb37-d1bd5ade867c"
      },
      "execution_count": null,
      "outputs": [
        {
          "output_type": "execute_result",
          "data": {
            "text/plain": [
              "(1115, 9)"
            ]
          },
          "metadata": {},
          "execution_count": 37
        }
      ]
    },
    {
      "cell_type": "code",
      "source": [
        "dfMel.sample(10)"
      ],
      "metadata": {
        "colab": {
          "base_uri": "https://localhost:8080/"
        },
        "id": "EpMalIhvwG-0",
        "outputId": "68852235-66b2-4c24-a716-3fcbe9e82fb5"
      },
      "execution_count": null,
      "outputs": [
        {
          "output_type": "execute_result",
          "data": {
            "text/plain": [
              "     Unnamed: 0          state  colonies_number  yield_per_colony  production  \\\n",
              "111         111         Nevada            14000                61      854000   \n",
              "45           45        Arizona            32000                60     1920000   \n",
              "364         364       Michigan            65000                74     4810000   \n",
              "678         678       Arkansas            22000                64      239000   \n",
              "878         878     California           310000                36     2009000   \n",
              "27           27  NorthCarolina            12000                52      624000   \n",
              "955         955        Alabama             6000                45       14000   \n",
              "911         911     Washington            84000                35      412000   \n",
              "451         451        Montana           130000                67     8710000   \n",
              "822         822         Oregon            71000                40      767000   \n",
              "\n",
              "      stocks  average_price  value_of_production  year  \n",
              "111   171000         114.00               974000  1997  \n",
              "45    307000          84.00              1613000  1996  \n",
              "364  1732000         147.00              7071000  2003  \n",
              "678   239000         162.00              2281000  2011  \n",
              "878  2009000         204.00             22766000  2016  \n",
              "27    162000          81.00               505000  1995  \n",
              "955    14000           3.72              1004000  2018  \n",
              "911   412000         199.00              5851000  2016  \n",
              "451  3136000          80.00              6968000  2005  \n",
              "822   767000         220.00              6248000  2014  "
            ],
            "text/html": [
              "\n",
              "  <div id=\"df-f4b39b55-cccf-4184-982c-702f358025c0\">\n",
              "    <div class=\"colab-df-container\">\n",
              "      <div>\n",
              "<style scoped>\n",
              "    .dataframe tbody tr th:only-of-type {\n",
              "        vertical-align: middle;\n",
              "    }\n",
              "\n",
              "    .dataframe tbody tr th {\n",
              "        vertical-align: top;\n",
              "    }\n",
              "\n",
              "    .dataframe thead th {\n",
              "        text-align: right;\n",
              "    }\n",
              "</style>\n",
              "<table border=\"1\" class=\"dataframe\">\n",
              "  <thead>\n",
              "    <tr style=\"text-align: right;\">\n",
              "      <th></th>\n",
              "      <th>Unnamed: 0</th>\n",
              "      <th>state</th>\n",
              "      <th>colonies_number</th>\n",
              "      <th>yield_per_colony</th>\n",
              "      <th>production</th>\n",
              "      <th>stocks</th>\n",
              "      <th>average_price</th>\n",
              "      <th>value_of_production</th>\n",
              "      <th>year</th>\n",
              "    </tr>\n",
              "  </thead>\n",
              "  <tbody>\n",
              "    <tr>\n",
              "      <th>111</th>\n",
              "      <td>111</td>\n",
              "      <td>Nevada</td>\n",
              "      <td>14000</td>\n",
              "      <td>61</td>\n",
              "      <td>854000</td>\n",
              "      <td>171000</td>\n",
              "      <td>114.00</td>\n",
              "      <td>974000</td>\n",
              "      <td>1997</td>\n",
              "    </tr>\n",
              "    <tr>\n",
              "      <th>45</th>\n",
              "      <td>45</td>\n",
              "      <td>Arizona</td>\n",
              "      <td>32000</td>\n",
              "      <td>60</td>\n",
              "      <td>1920000</td>\n",
              "      <td>307000</td>\n",
              "      <td>84.00</td>\n",
              "      <td>1613000</td>\n",
              "      <td>1996</td>\n",
              "    </tr>\n",
              "    <tr>\n",
              "      <th>364</th>\n",
              "      <td>364</td>\n",
              "      <td>Michigan</td>\n",
              "      <td>65000</td>\n",
              "      <td>74</td>\n",
              "      <td>4810000</td>\n",
              "      <td>1732000</td>\n",
              "      <td>147.00</td>\n",
              "      <td>7071000</td>\n",
              "      <td>2003</td>\n",
              "    </tr>\n",
              "    <tr>\n",
              "      <th>678</th>\n",
              "      <td>678</td>\n",
              "      <td>Arkansas</td>\n",
              "      <td>22000</td>\n",
              "      <td>64</td>\n",
              "      <td>239000</td>\n",
              "      <td>239000</td>\n",
              "      <td>162.00</td>\n",
              "      <td>2281000</td>\n",
              "      <td>2011</td>\n",
              "    </tr>\n",
              "    <tr>\n",
              "      <th>878</th>\n",
              "      <td>878</td>\n",
              "      <td>California</td>\n",
              "      <td>310000</td>\n",
              "      <td>36</td>\n",
              "      <td>2009000</td>\n",
              "      <td>2009000</td>\n",
              "      <td>204.00</td>\n",
              "      <td>22766000</td>\n",
              "      <td>2016</td>\n",
              "    </tr>\n",
              "    <tr>\n",
              "      <th>27</th>\n",
              "      <td>27</td>\n",
              "      <td>NorthCarolina</td>\n",
              "      <td>12000</td>\n",
              "      <td>52</td>\n",
              "      <td>624000</td>\n",
              "      <td>162000</td>\n",
              "      <td>81.00</td>\n",
              "      <td>505000</td>\n",
              "      <td>1995</td>\n",
              "    </tr>\n",
              "    <tr>\n",
              "      <th>955</th>\n",
              "      <td>955</td>\n",
              "      <td>Alabama</td>\n",
              "      <td>6000</td>\n",
              "      <td>45</td>\n",
              "      <td>14000</td>\n",
              "      <td>14000</td>\n",
              "      <td>3.72</td>\n",
              "      <td>1004000</td>\n",
              "      <td>2018</td>\n",
              "    </tr>\n",
              "    <tr>\n",
              "      <th>911</th>\n",
              "      <td>911</td>\n",
              "      <td>Washington</td>\n",
              "      <td>84000</td>\n",
              "      <td>35</td>\n",
              "      <td>412000</td>\n",
              "      <td>412000</td>\n",
              "      <td>199.00</td>\n",
              "      <td>5851000</td>\n",
              "      <td>2016</td>\n",
              "    </tr>\n",
              "    <tr>\n",
              "      <th>451</th>\n",
              "      <td>451</td>\n",
              "      <td>Montana</td>\n",
              "      <td>130000</td>\n",
              "      <td>67</td>\n",
              "      <td>8710000</td>\n",
              "      <td>3136000</td>\n",
              "      <td>80.00</td>\n",
              "      <td>6968000</td>\n",
              "      <td>2005</td>\n",
              "    </tr>\n",
              "    <tr>\n",
              "      <th>822</th>\n",
              "      <td>822</td>\n",
              "      <td>Oregon</td>\n",
              "      <td>71000</td>\n",
              "      <td>40</td>\n",
              "      <td>767000</td>\n",
              "      <td>767000</td>\n",
              "      <td>220.00</td>\n",
              "      <td>6248000</td>\n",
              "      <td>2014</td>\n",
              "    </tr>\n",
              "  </tbody>\n",
              "</table>\n",
              "</div>\n",
              "      <button class=\"colab-df-convert\" onclick=\"convertToInteractive('df-f4b39b55-cccf-4184-982c-702f358025c0')\"\n",
              "              title=\"Convert this dataframe to an interactive table.\"\n",
              "              style=\"display:none;\">\n",
              "        \n",
              "  <svg xmlns=\"http://www.w3.org/2000/svg\" height=\"24px\"viewBox=\"0 0 24 24\"\n",
              "       width=\"24px\">\n",
              "    <path d=\"M0 0h24v24H0V0z\" fill=\"none\"/>\n",
              "    <path d=\"M18.56 5.44l.94 2.06.94-2.06 2.06-.94-2.06-.94-.94-2.06-.94 2.06-2.06.94zm-11 1L8.5 8.5l.94-2.06 2.06-.94-2.06-.94L8.5 2.5l-.94 2.06-2.06.94zm10 10l.94 2.06.94-2.06 2.06-.94-2.06-.94-.94-2.06-.94 2.06-2.06.94z\"/><path d=\"M17.41 7.96l-1.37-1.37c-.4-.4-.92-.59-1.43-.59-.52 0-1.04.2-1.43.59L10.3 9.45l-7.72 7.72c-.78.78-.78 2.05 0 2.83L4 21.41c.39.39.9.59 1.41.59.51 0 1.02-.2 1.41-.59l7.78-7.78 2.81-2.81c.8-.78.8-2.07 0-2.86zM5.41 20L4 18.59l7.72-7.72 1.47 1.35L5.41 20z\"/>\n",
              "  </svg>\n",
              "      </button>\n",
              "      \n",
              "  <style>\n",
              "    .colab-df-container {\n",
              "      display:flex;\n",
              "      flex-wrap:wrap;\n",
              "      gap: 12px;\n",
              "    }\n",
              "\n",
              "    .colab-df-convert {\n",
              "      background-color: #E8F0FE;\n",
              "      border: none;\n",
              "      border-radius: 50%;\n",
              "      cursor: pointer;\n",
              "      display: none;\n",
              "      fill: #1967D2;\n",
              "      height: 32px;\n",
              "      padding: 0 0 0 0;\n",
              "      width: 32px;\n",
              "    }\n",
              "\n",
              "    .colab-df-convert:hover {\n",
              "      background-color: #E2EBFA;\n",
              "      box-shadow: 0px 1px 2px rgba(60, 64, 67, 0.3), 0px 1px 3px 1px rgba(60, 64, 67, 0.15);\n",
              "      fill: #174EA6;\n",
              "    }\n",
              "\n",
              "    [theme=dark] .colab-df-convert {\n",
              "      background-color: #3B4455;\n",
              "      fill: #D2E3FC;\n",
              "    }\n",
              "\n",
              "    [theme=dark] .colab-df-convert:hover {\n",
              "      background-color: #434B5C;\n",
              "      box-shadow: 0px 1px 3px 1px rgba(0, 0, 0, 0.15);\n",
              "      filter: drop-shadow(0px 1px 2px rgba(0, 0, 0, 0.3));\n",
              "      fill: #FFFFFF;\n",
              "    }\n",
              "  </style>\n",
              "\n",
              "      <script>\n",
              "        const buttonEl =\n",
              "          document.querySelector('#df-f4b39b55-cccf-4184-982c-702f358025c0 button.colab-df-convert');\n",
              "        buttonEl.style.display =\n",
              "          google.colab.kernel.accessAllowed ? 'block' : 'none';\n",
              "\n",
              "        async function convertToInteractive(key) {\n",
              "          const element = document.querySelector('#df-f4b39b55-cccf-4184-982c-702f358025c0');\n",
              "          const dataTable =\n",
              "            await google.colab.kernel.invokeFunction('convertToInteractive',\n",
              "                                                     [key], {});\n",
              "          if (!dataTable) return;\n",
              "\n",
              "          const docLinkHtml = 'Like what you see? Visit the ' +\n",
              "            '<a target=\"_blank\" href=https://colab.research.google.com/notebooks/data_table.ipynb>data table notebook</a>'\n",
              "            + ' to learn more about interactive tables.';\n",
              "          element.innerHTML = '';\n",
              "          dataTable['output_type'] = 'display_data';\n",
              "          await google.colab.output.renderOutput(dataTable, element);\n",
              "          const docLink = document.createElement('div');\n",
              "          docLink.innerHTML = docLinkHtml;\n",
              "          element.appendChild(docLink);\n",
              "        }\n",
              "      </script>\n",
              "    </div>\n",
              "  </div>\n",
              "  "
            ]
          },
          "metadata": {},
          "execution_count": 38
        }
      ]
    },
    {
      "cell_type": "code",
      "source": [
        "dfMel = dfMel.drop(['Unnamed: 0'], axis=1)"
      ],
      "metadata": {
        "id": "k90-0JCez-QH"
      },
      "execution_count": null,
      "outputs": []
    },
    {
      "cell_type": "code",
      "source": [
        "dfMel.isnull().sum()"
      ],
      "metadata": {
        "colab": {
          "base_uri": "https://localhost:8080/"
        },
        "id": "Oy1TcAdhwKBk",
        "outputId": "547b40d1-b036-4233-b934-7b82fbdc3d68"
      },
      "execution_count": null,
      "outputs": [
        {
          "output_type": "execute_result",
          "data": {
            "text/plain": [
              "state                  0\n",
              "colonies_number        0\n",
              "yield_per_colony       0\n",
              "production             0\n",
              "stocks                 0\n",
              "average_price          0\n",
              "value_of_production    0\n",
              "year                   0\n",
              "dtype: int64"
            ]
          },
          "metadata": {},
          "execution_count": 40
        }
      ]
    },
    {
      "cell_type": "code",
      "source": [
        "dfMel.dtypes"
      ],
      "metadata": {
        "colab": {
          "base_uri": "https://localhost:8080/"
        },
        "id": "Bzc53WyFwYkk",
        "outputId": "931f881e-c130-4070-e589-2a395e66ebb5"
      },
      "execution_count": null,
      "outputs": [
        {
          "output_type": "execute_result",
          "data": {
            "text/plain": [
              "state                   object\n",
              "colonies_number          int64\n",
              "yield_per_colony         int64\n",
              "production               int64\n",
              "stocks                   int64\n",
              "average_price          float64\n",
              "value_of_production      int64\n",
              "year                     int64\n",
              "dtype: object"
            ]
          },
          "metadata": {},
          "execution_count": 41
        }
      ]
    },
    {
      "cell_type": "code",
      "source": [
        "dfMel.describe()"
      ],
      "metadata": {
        "colab": {
          "base_uri": "https://localhost:8080/"
        },
        "id": "FdviYHl_wcPN",
        "outputId": "1054bc32-f44f-4fe0-a8dd-0b7368e1af47"
      },
      "execution_count": null,
      "outputs": [
        {
          "output_type": "execute_result",
          "data": {
            "text/plain": [
              "       colonies_number  yield_per_colony    production        stocks  \\\n",
              "count      1115.000000       1115.000000  1.115000e+03  1.115000e+03   \n",
              "mean      62438.565022         59.743498  2.851268e+06  1.172625e+06   \n",
              "std       92648.175955         19.940500  5.561202e+06  2.049556e+06   \n",
              "min        2000.000000         19.000000  1.200000e+04  9.000000e+03   \n",
              "25%        9000.000000         45.000000  2.460000e+05  1.125000e+05   \n",
              "50%       26000.000000         57.000000  8.280000e+05  3.700000e+05   \n",
              "75%       69000.000000         71.000000  2.700000e+06  1.253500e+06   \n",
              "max      550000.000000        155.000000  3.906000e+07  1.354500e+07   \n",
              "\n",
              "       average_price  value_of_production         year  \n",
              "count    1115.000000         1.115000e+03  1115.000000  \n",
              "mean      140.623076         5.667412e+06  2007.740807  \n",
              "std       107.011544         9.459460e+06     7.823002  \n",
              "min         1.300000         1.060000e+05  1995.000000  \n",
              "25%        70.000000         1.008000e+06  2001.000000  \n",
              "50%       128.000000         2.281000e+06  2008.000000  \n",
              "75%       193.000000         5.704000e+06  2015.000000  \n",
              "max       874.000000         8.385900e+07  2021.000000  "
            ],
            "text/html": [
              "\n",
              "  <div id=\"df-0f59768e-3e84-4394-9de0-bda6ec486e74\">\n",
              "    <div class=\"colab-df-container\">\n",
              "      <div>\n",
              "<style scoped>\n",
              "    .dataframe tbody tr th:only-of-type {\n",
              "        vertical-align: middle;\n",
              "    }\n",
              "\n",
              "    .dataframe tbody tr th {\n",
              "        vertical-align: top;\n",
              "    }\n",
              "\n",
              "    .dataframe thead th {\n",
              "        text-align: right;\n",
              "    }\n",
              "</style>\n",
              "<table border=\"1\" class=\"dataframe\">\n",
              "  <thead>\n",
              "    <tr style=\"text-align: right;\">\n",
              "      <th></th>\n",
              "      <th>colonies_number</th>\n",
              "      <th>yield_per_colony</th>\n",
              "      <th>production</th>\n",
              "      <th>stocks</th>\n",
              "      <th>average_price</th>\n",
              "      <th>value_of_production</th>\n",
              "      <th>year</th>\n",
              "    </tr>\n",
              "  </thead>\n",
              "  <tbody>\n",
              "    <tr>\n",
              "      <th>count</th>\n",
              "      <td>1115.000000</td>\n",
              "      <td>1115.000000</td>\n",
              "      <td>1.115000e+03</td>\n",
              "      <td>1.115000e+03</td>\n",
              "      <td>1115.000000</td>\n",
              "      <td>1.115000e+03</td>\n",
              "      <td>1115.000000</td>\n",
              "    </tr>\n",
              "    <tr>\n",
              "      <th>mean</th>\n",
              "      <td>62438.565022</td>\n",
              "      <td>59.743498</td>\n",
              "      <td>2.851268e+06</td>\n",
              "      <td>1.172625e+06</td>\n",
              "      <td>140.623076</td>\n",
              "      <td>5.667412e+06</td>\n",
              "      <td>2007.740807</td>\n",
              "    </tr>\n",
              "    <tr>\n",
              "      <th>std</th>\n",
              "      <td>92648.175955</td>\n",
              "      <td>19.940500</td>\n",
              "      <td>5.561202e+06</td>\n",
              "      <td>2.049556e+06</td>\n",
              "      <td>107.011544</td>\n",
              "      <td>9.459460e+06</td>\n",
              "      <td>7.823002</td>\n",
              "    </tr>\n",
              "    <tr>\n",
              "      <th>min</th>\n",
              "      <td>2000.000000</td>\n",
              "      <td>19.000000</td>\n",
              "      <td>1.200000e+04</td>\n",
              "      <td>9.000000e+03</td>\n",
              "      <td>1.300000</td>\n",
              "      <td>1.060000e+05</td>\n",
              "      <td>1995.000000</td>\n",
              "    </tr>\n",
              "    <tr>\n",
              "      <th>25%</th>\n",
              "      <td>9000.000000</td>\n",
              "      <td>45.000000</td>\n",
              "      <td>2.460000e+05</td>\n",
              "      <td>1.125000e+05</td>\n",
              "      <td>70.000000</td>\n",
              "      <td>1.008000e+06</td>\n",
              "      <td>2001.000000</td>\n",
              "    </tr>\n",
              "    <tr>\n",
              "      <th>50%</th>\n",
              "      <td>26000.000000</td>\n",
              "      <td>57.000000</td>\n",
              "      <td>8.280000e+05</td>\n",
              "      <td>3.700000e+05</td>\n",
              "      <td>128.000000</td>\n",
              "      <td>2.281000e+06</td>\n",
              "      <td>2008.000000</td>\n",
              "    </tr>\n",
              "    <tr>\n",
              "      <th>75%</th>\n",
              "      <td>69000.000000</td>\n",
              "      <td>71.000000</td>\n",
              "      <td>2.700000e+06</td>\n",
              "      <td>1.253500e+06</td>\n",
              "      <td>193.000000</td>\n",
              "      <td>5.704000e+06</td>\n",
              "      <td>2015.000000</td>\n",
              "    </tr>\n",
              "    <tr>\n",
              "      <th>max</th>\n",
              "      <td>550000.000000</td>\n",
              "      <td>155.000000</td>\n",
              "      <td>3.906000e+07</td>\n",
              "      <td>1.354500e+07</td>\n",
              "      <td>874.000000</td>\n",
              "      <td>8.385900e+07</td>\n",
              "      <td>2021.000000</td>\n",
              "    </tr>\n",
              "  </tbody>\n",
              "</table>\n",
              "</div>\n",
              "      <button class=\"colab-df-convert\" onclick=\"convertToInteractive('df-0f59768e-3e84-4394-9de0-bda6ec486e74')\"\n",
              "              title=\"Convert this dataframe to an interactive table.\"\n",
              "              style=\"display:none;\">\n",
              "        \n",
              "  <svg xmlns=\"http://www.w3.org/2000/svg\" height=\"24px\"viewBox=\"0 0 24 24\"\n",
              "       width=\"24px\">\n",
              "    <path d=\"M0 0h24v24H0V0z\" fill=\"none\"/>\n",
              "    <path d=\"M18.56 5.44l.94 2.06.94-2.06 2.06-.94-2.06-.94-.94-2.06-.94 2.06-2.06.94zm-11 1L8.5 8.5l.94-2.06 2.06-.94-2.06-.94L8.5 2.5l-.94 2.06-2.06.94zm10 10l.94 2.06.94-2.06 2.06-.94-2.06-.94-.94-2.06-.94 2.06-2.06.94z\"/><path d=\"M17.41 7.96l-1.37-1.37c-.4-.4-.92-.59-1.43-.59-.52 0-1.04.2-1.43.59L10.3 9.45l-7.72 7.72c-.78.78-.78 2.05 0 2.83L4 21.41c.39.39.9.59 1.41.59.51 0 1.02-.2 1.41-.59l7.78-7.78 2.81-2.81c.8-.78.8-2.07 0-2.86zM5.41 20L4 18.59l7.72-7.72 1.47 1.35L5.41 20z\"/>\n",
              "  </svg>\n",
              "      </button>\n",
              "      \n",
              "  <style>\n",
              "    .colab-df-container {\n",
              "      display:flex;\n",
              "      flex-wrap:wrap;\n",
              "      gap: 12px;\n",
              "    }\n",
              "\n",
              "    .colab-df-convert {\n",
              "      background-color: #E8F0FE;\n",
              "      border: none;\n",
              "      border-radius: 50%;\n",
              "      cursor: pointer;\n",
              "      display: none;\n",
              "      fill: #1967D2;\n",
              "      height: 32px;\n",
              "      padding: 0 0 0 0;\n",
              "      width: 32px;\n",
              "    }\n",
              "\n",
              "    .colab-df-convert:hover {\n",
              "      background-color: #E2EBFA;\n",
              "      box-shadow: 0px 1px 2px rgba(60, 64, 67, 0.3), 0px 1px 3px 1px rgba(60, 64, 67, 0.15);\n",
              "      fill: #174EA6;\n",
              "    }\n",
              "\n",
              "    [theme=dark] .colab-df-convert {\n",
              "      background-color: #3B4455;\n",
              "      fill: #D2E3FC;\n",
              "    }\n",
              "\n",
              "    [theme=dark] .colab-df-convert:hover {\n",
              "      background-color: #434B5C;\n",
              "      box-shadow: 0px 1px 3px 1px rgba(0, 0, 0, 0.15);\n",
              "      filter: drop-shadow(0px 1px 2px rgba(0, 0, 0, 0.3));\n",
              "      fill: #FFFFFF;\n",
              "    }\n",
              "  </style>\n",
              "\n",
              "      <script>\n",
              "        const buttonEl =\n",
              "          document.querySelector('#df-0f59768e-3e84-4394-9de0-bda6ec486e74 button.colab-df-convert');\n",
              "        buttonEl.style.display =\n",
              "          google.colab.kernel.accessAllowed ? 'block' : 'none';\n",
              "\n",
              "        async function convertToInteractive(key) {\n",
              "          const element = document.querySelector('#df-0f59768e-3e84-4394-9de0-bda6ec486e74');\n",
              "          const dataTable =\n",
              "            await google.colab.kernel.invokeFunction('convertToInteractive',\n",
              "                                                     [key], {});\n",
              "          if (!dataTable) return;\n",
              "\n",
              "          const docLinkHtml = 'Like what you see? Visit the ' +\n",
              "            '<a target=\"_blank\" href=https://colab.research.google.com/notebooks/data_table.ipynb>data table notebook</a>'\n",
              "            + ' to learn more about interactive tables.';\n",
              "          element.innerHTML = '';\n",
              "          dataTable['output_type'] = 'display_data';\n",
              "          await google.colab.output.renderOutput(dataTable, element);\n",
              "          const docLink = document.createElement('div');\n",
              "          docLink.innerHTML = docLinkHtml;\n",
              "          element.appendChild(docLink);\n",
              "        }\n",
              "      </script>\n",
              "    </div>\n",
              "  </div>\n",
              "  "
            ]
          },
          "metadata": {},
          "execution_count": 42
        }
      ]
    },
    {
      "cell_type": "code",
      "source": [
        "fig, axs = plt.subplots(3,3, figsize = (15,15),tight_layout = True)\n",
        "\n",
        "\n",
        "sns.histplot(data = dfMel, x = 'colonies_number', palette = 'mako',ax = axs[0,0])\n",
        "sns.histplot(data = dfMel, x = 'yield_per_colony', palette = 'mako',ax = axs[0,1])\n",
        "sns.histplot(data = dfMel, x = 'production', palette = 'mako',ax = axs[0,2])\n",
        "sns.histplot(data = dfMel, x = 'stocks', palette = 'mako',ax = axs[1,0])\n",
        "sns.histplot(data = dfMel, x = 'average_price', palette = 'mako',ax = axs[1,1])\n",
        "sns.histplot(data = dfMel, x = 'value_of_production', palette = 'mako',ax = axs[1,2])\n",
        "sns.histplot(data = dfMel, x = 'year', palette = 'mako',ax = axs[2,0])"
      ],
      "metadata": {
        "id": "VySoWqEq1HJe",
        "colab": {
          "base_uri": "https://localhost:8080/"
        },
        "outputId": "504d9dc4-13c4-42eb-9028-6eb932ca9009"
      },
      "execution_count": null,
      "outputs": [
        {
          "output_type": "execute_result",
          "data": {
            "text/plain": [
              "<matplotlib.axes._subplots.AxesSubplot at 0x7fbd54598d30>"
            ]
          },
          "metadata": {},
          "execution_count": 43
        },
        {
          "output_type": "display_data",
          "data": {
            "text/plain": [
              "<Figure size 1080x1080 with 9 Axes>"
            ],
            "image/png": "[encoded data removed]"
          },
          "metadata": {}
        }
      ]
    },
    {
      "cell_type": "code",
      "source": [
        "plt.subplots(figsize = (10,10))\n",
        "sns.heatmap(\n",
        "    dfMel.corr(),\n",
        "    annot = True,\n",
        "    fmt = '.2f',\n",
        "    cmap='vlag')\n",
        "\n",
        "plt.title('Correlação entre variáveis')\n",
        "plt.show()\n",
        "figsize = (6.4,4.8)"
      ],
      "metadata": {
        "id": "_dp9bdIrxXTw",
        "colab": {
          "base_uri": "https://localhost:8080/"
        },
        "outputId": "76dc4cc6-99c1-4dbb-f7d0-28fcb60e0cd9"
      },
      "execution_count": null,
      "outputs": [
        {
          "output_type": "display_data",
          "data": {
            "text/plain": [
              "<Figure size 720x720 with 2 Axes>"
            ],
            "image/png": "[encoded data removed]"
          },
          "metadata": {}
        }
      ]
    },
    {
      "cell_type": "markdown",
      "source": [
        "#Modelagem"
      ],
      "metadata": {
        "id": "EXmz2WQZ4zWW"
      }
    },
    {
      "cell_type": "code",
      "source": [
        "#Normalizando os dados\n",
        "dfNorm = dfMel.copy()\n",
        "dfNorm['colonies_number'] = (dfNorm['colonies_number'] - dfNorm['colonies_number'].mean())/ dfNorm['colonies_number'].std()\n",
        "dfNorm['yield_per_colony'] = (dfNorm['yield_per_colony'] - dfNorm['yield_per_colony'].mean())/ dfNorm['yield_per_colony'].std()\n",
        "dfNorm['production'] = (dfNorm['production'] - dfNorm['production'].mean())/ dfNorm['production'].std()\n",
        "dfNorm['stocks'] = (dfNorm['stocks'] - dfNorm['stocks'].mean())/ dfNorm['stocks'].std()\n",
        "dfNorm['average_price'] = (dfNorm['average_price'] - dfNorm['average_price'].mean())/ dfNorm['average_price'].std()\n",
        "dfNorm['value_of_production'] = (dfNorm['value_of_production'] - dfNorm['value_of_production'].mean())/ dfNorm['value_of_production'].std()"
      ],
      "metadata": {
        "id": "QVJu5tQw28Tm"
      },
      "execution_count": null,
      "outputs": []
    },
    {
      "cell_type": "code",
      "source": [
        "dfNorm.sample(10)"
      ],
      "metadata": {
        "colab": {
          "base_uri": "https://localhost:8080/",
          "height": 363
        },
        "id": "jQF1R-KM3Pan",
        "outputId": "88a0583b-0b79-4d29-ba3e-2f6e45e010c9"
      },
      "execution_count": null,
      "outputs": [
        {
          "output_type": "execute_result",
          "data": {
            "text/plain": [
              "           state  colonies_number  yield_per_colony  production    stocks  \\\n",
              "935      Montana         0.891129          0.614654   -0.062085  0.650568   \n",
              "329      NewYork        -0.026321          1.918533    0.544618  0.633003   \n",
              "331  NorthDakota         2.779995          0.765101    3.802907  3.409214   \n",
              "62     Minnesota         0.945096          0.865400    1.564182  0.216815   \n",
              "444     Kentucky        -0.619964         -0.488629   -0.467753 -0.552620   \n",
              "100       Kansas        -0.490442          0.564505   -0.295668 -0.236454   \n",
              "746  SouthDakota         2.132383          0.163311    0.135354  1.186294   \n",
              "1        Arizona        -0.112669          0.965698    0.225982 -0.091056   \n",
              "405        Maine        -0.598377         -1.441463   -0.473687 -0.554084   \n",
              "496    NewMexico        -0.598377         -0.588927   -0.452289 -0.521394   \n",
              "\n",
              "     average_price  value_of_production  year  \n",
              "935       0.751105             1.839913  2017  \n",
              "329      -0.220753             0.128188  2002  \n",
              "331       0.012867             3.003616  2002  \n",
              "62       -0.463717             0.512036  1996  \n",
              "444       0.667002            -0.543098  2005  \n",
              "100      -0.557165            -0.495738  1997  \n",
              "746       0.508141             2.777493  2012  \n",
              "1        -0.678647            -0.303866  1995  \n",
              "405      -0.127305            -0.569949  2004  \n",
              "496      -0.416993            -0.564981  2006  "
            ],
            "text/html": [
              "\n",
              "  <div id=\"df-f35bf35d-be0a-4980-96eb-b87069eeee79\">\n",
              "    <div class=\"colab-df-container\">\n",
              "      <div>\n",
              "<style scoped>\n",
              "    .dataframe tbody tr th:only-of-type {\n",
              "        vertical-align: middle;\n",
              "    }\n",
              "\n",
              "    .dataframe tbody tr th {\n",
              "        vertical-align: top;\n",
              "    }\n",
              "\n",
              "    .dataframe thead th {\n",
              "        text-align: right;\n",
              "    }\n",
              "</style>\n",
              "<table border=\"1\" class=\"dataframe\">\n",
              "  <thead>\n",
              "    <tr style=\"text-align: right;\">\n",
              "      <th></th>\n",
              "      <th>state</th>\n",
              "      <th>colonies_number</th>\n",
              "      <th>yield_per_colony</th>\n",
              "      <th>production</th>\n",
              "      <th>stocks</th>\n",
              "      <th>average_price</th>\n",
              "      <th>value_of_production</th>\n",
              "      <th>year</th>\n",
              "    </tr>\n",
              "  </thead>\n",
              "  <tbody>\n",
              "    <tr>\n",
              "      <th>935</th>\n",
              "      <td>Montana</td>\n",
              "      <td>0.891129</td>\n",
              "      <td>0.614654</td>\n",
              "      <td>-0.062085</td>\n",
              "      <td>0.650568</td>\n",
              "      <td>0.751105</td>\n",
              "      <td>1.839913</td>\n",
              "      <td>2017</td>\n",
              "    </tr>\n",
              "    <tr>\n",
              "      <th>329</th>\n",
              "      <td>NewYork</td>\n",
              "      <td>-0.026321</td>\n",
              "      <td>1.918533</td>\n",
              "      <td>0.544618</td>\n",
              "      <td>0.633003</td>\n",
              "      <td>-0.220753</td>\n",
              "      <td>0.128188</td>\n",
              "      <td>2002</td>\n",
              "    </tr>\n",
              "    <tr>\n",
              "      <th>331</th>\n",
              "      <td>NorthDakota</td>\n",
              "      <td>2.779995</td>\n",
              "      <td>0.765101</td>\n",
              "      <td>3.802907</td>\n",
              "      <td>3.409214</td>\n",
              "      <td>0.012867</td>\n",
              "      <td>3.003616</td>\n",
              "      <td>2002</td>\n",
              "    </tr>\n",
              "    <tr>\n",
              "      <th>62</th>\n",
              "      <td>Minnesota</td>\n",
              "      <td>0.945096</td>\n",
              "      <td>0.865400</td>\n",
              "      <td>1.564182</td>\n",
              "      <td>0.216815</td>\n",
              "      <td>-0.463717</td>\n",
              "      <td>0.512036</td>\n",
              "      <td>1996</td>\n",
              "    </tr>\n",
              "    <tr>\n",
              "      <th>444</th>\n",
              "      <td>Kentucky</td>\n",
              "      <td>-0.619964</td>\n",
              "      <td>-0.488629</td>\n",
              "      <td>-0.467753</td>\n",
              "      <td>-0.552620</td>\n",
              "      <td>0.667002</td>\n",
              "      <td>-0.543098</td>\n",
              "      <td>2005</td>\n",
              "    </tr>\n",
              "    <tr>\n",
              "      <th>100</th>\n",
              "      <td>Kansas</td>\n",
              "      <td>-0.490442</td>\n",
              "      <td>0.564505</td>\n",
              "      <td>-0.295668</td>\n",
              "      <td>-0.236454</td>\n",
              "      <td>-0.557165</td>\n",
              "      <td>-0.495738</td>\n",
              "      <td>1997</td>\n",
              "    </tr>\n",
              "    <tr>\n",
              "      <th>746</th>\n",
              "      <td>SouthDakota</td>\n",
              "      <td>2.132383</td>\n",
              "      <td>0.163311</td>\n",
              "      <td>0.135354</td>\n",
              "      <td>1.186294</td>\n",
              "      <td>0.508141</td>\n",
              "      <td>2.777493</td>\n",
              "      <td>2012</td>\n",
              "    </tr>\n",
              "    <tr>\n",
              "      <th>1</th>\n",
              "      <td>Arizona</td>\n",
              "      <td>-0.112669</td>\n",
              "      <td>0.965698</td>\n",
              "      <td>0.225982</td>\n",
              "      <td>-0.091056</td>\n",
              "      <td>-0.678647</td>\n",
              "      <td>-0.303866</td>\n",
              "      <td>1995</td>\n",
              "    </tr>\n",
              "    <tr>\n",
              "      <th>405</th>\n",
              "      <td>Maine</td>\n",
              "      <td>-0.598377</td>\n",
              "      <td>-1.441463</td>\n",
              "      <td>-0.473687</td>\n",
              "      <td>-0.554084</td>\n",
              "      <td>-0.127305</td>\n",
              "      <td>-0.569949</td>\n",
              "      <td>2004</td>\n",
              "    </tr>\n",
              "    <tr>\n",
              "      <th>496</th>\n",
              "      <td>NewMexico</td>\n",
              "      <td>-0.598377</td>\n",
              "      <td>-0.588927</td>\n",
              "      <td>-0.452289</td>\n",
              "      <td>-0.521394</td>\n",
              "      <td>-0.416993</td>\n",
              "      <td>-0.564981</td>\n",
              "      <td>2006</td>\n",
              "    </tr>\n",
              "  </tbody>\n",
              "</table>\n",
              "</div>\n",
              "      <button class=\"colab-df-convert\" onclick=\"convertToInteractive('df-f35bf35d-be0a-4980-96eb-b87069eeee79')\"\n",
              "              title=\"Convert this dataframe to an interactive table.\"\n",
              "              style=\"display:none;\">\n",
              "        \n",
              "  <svg xmlns=\"http://www.w3.org/2000/svg\" height=\"24px\"viewBox=\"0 0 24 24\"\n",
              "       width=\"24px\">\n",
              "    <path d=\"M0 0h24v24H0V0z\" fill=\"none\"/>\n",
              "    <path d=\"M18.56 5.44l.94 2.06.94-2.06 2.06-.94-2.06-.94-.94-2.06-.94 2.06-2.06.94zm-11 1L8.5 8.5l.94-2.06 2.06-.94-2.06-.94L8.5 2.5l-.94 2.06-2.06.94zm10 10l.94 2.06.94-2.06 2.06-.94-2.06-.94-.94-2.06-.94 2.06-2.06.94z\"/><path d=\"M17.41 7.96l-1.37-1.37c-.4-.4-.92-.59-1.43-.59-.52 0-1.04.2-1.43.59L10.3 9.45l-7.72 7.72c-.78.78-.78 2.05 0 2.83L4 21.41c.39.39.9.59 1.41.59.51 0 1.02-.2 1.41-.59l7.78-7.78 2.81-2.81c.8-.78.8-2.07 0-2.86zM5.41 20L4 18.59l7.72-7.72 1.47 1.35L5.41 20z\"/>\n",
              "  </svg>\n",
              "      </button>\n",
              "      \n",
              "  <style>\n",
              "    .colab-df-container {\n",
              "      display:flex;\n",
              "      flex-wrap:wrap;\n",
              "      gap: 12px;\n",
              "    }\n",
              "\n",
              "    .colab-df-convert {\n",
              "      background-color: #E8F0FE;\n",
              "      border: none;\n",
              "      border-radius: 50%;\n",
              "      cursor: pointer;\n",
              "      display: none;\n",
              "      fill: #1967D2;\n",
              "      height: 32px;\n",
              "      padding: 0 0 0 0;\n",
              "      width: 32px;\n",
              "    }\n",
              "\n",
              "    .colab-df-convert:hover {\n",
              "      background-color: #E2EBFA;\n",
              "      box-shadow: 0px 1px 2px rgba(60, 64, 67, 0.3), 0px 1px 3px 1px rgba(60, 64, 67, 0.15);\n",
              "      fill: #174EA6;\n",
              "    }\n",
              "\n",
              "    [theme=dark] .colab-df-convert {\n",
              "      background-color: #3B4455;\n",
              "      fill: #D2E3FC;\n",
              "    }\n",
              "\n",
              "    [theme=dark] .colab-df-convert:hover {\n",
              "      background-color: #434B5C;\n",
              "      box-shadow: 0px 1px 3px 1px rgba(0, 0, 0, 0.15);\n",
              "      filter: drop-shadow(0px 1px 2px rgba(0, 0, 0, 0.3));\n",
              "      fill: #FFFFFF;\n",
              "    }\n",
              "  </style>\n",
              "\n",
              "      <script>\n",
              "        const buttonEl =\n",
              "          document.querySelector('#df-f35bf35d-be0a-4980-96eb-b87069eeee79 button.colab-df-convert');\n",
              "        buttonEl.style.display =\n",
              "          google.colab.kernel.accessAllowed ? 'block' : 'none';\n",
              "\n",
              "        async function convertToInteractive(key) {\n",
              "          const element = document.querySelector('#df-f35bf35d-be0a-4980-96eb-b87069eeee79');\n",
              "          const dataTable =\n",
              "            await google.colab.kernel.invokeFunction('convertToInteractive',\n",
              "                                                     [key], {});\n",
              "          if (!dataTable) return;\n",
              "\n",
              "          const docLinkHtml = 'Like what you see? Visit the ' +\n",
              "            '<a target=\"_blank\" href=https://colab.research.google.com/notebooks/data_table.ipynb>data table notebook</a>'\n",
              "            + ' to learn more about interactive tables.';\n",
              "          element.innerHTML = '';\n",
              "          dataTable['output_type'] = 'display_data';\n",
              "          await google.colab.output.renderOutput(dataTable, element);\n",
              "          const docLink = document.createElement('div');\n",
              "          docLink.innerHTML = docLinkHtml;\n",
              "          element.appendChild(docLink);\n",
              "        }\n",
              "      </script>\n",
              "    </div>\n",
              "  </div>\n",
              "  "
            ]
          },
          "metadata": {},
          "execution_count": 46
        }
      ]
    },
    {
      "cell_type": "code",
      "source": [
        "X= dfNorm[['yield_per_colony','production','stocks','average_price','value_of_production']]\n",
        "y = dfNorm['colonies_number']"
      ],
      "metadata": {
        "id": "mYTfH8zV3VxI"
      },
      "execution_count": null,
      "outputs": []
    },
    {
      "cell_type": "markdown",
      "source": [
        "##Regressão Linear"
      ],
      "metadata": {
        "id": "GSQi7NAS68ej"
      }
    },
    {
      "cell_type": "code",
      "source": [
        "#X_train, X_test, y_train, y_test = train_test_split(X, y, test_size = 0.25, random_state = 2)"
      ],
      "metadata": {
        "id": "3yd0B5h_3luX"
      },
      "execution_count": null,
      "outputs": []
    },
    {
      "cell_type": "code",
      "source": [
        "regLin = LinearRegression()\n",
        "\n",
        "# Número de Atributos Previsoras\n",
        "features = np.arange(1,6)\n",
        "melhor_score=0\n",
        "nf=0\n",
        "scores =[]\n",
        "\n",
        "for i in range(len(features)):\n",
        "    ## Divisão treino e teste\n",
        "    X_treino, X_teste, Y_treino, Y_teste = train_test_split(X, y, test_size = 0.3, random_state = 0)\n",
        "    regLin = LinearRegression()\n",
        "    ## RFE\n",
        "    rfe = RFE(estimator=regLin,n_features_to_select=features[i])\n",
        "    ## Fit transform no treino\n",
        "    X_treino_rfe = rfe.fit_transform(X_treino,Y_treino)\n",
        "    X_teste_rfe = rfe.transform(X_teste)\n",
        "    ## Treinando com X_treino_rfe e Y_treino\n",
        "    regLin.fit(X_treino_rfe,Y_treino)\n",
        "    ## Score do treinamento\n",
        "    score = regLin.score(X_teste_rfe,Y_teste)\n",
        "    ## Armazenando resultados na features vazia\n",
        "    scores.append(score)\n",
        "    ## Observando o melhor score dentre todos e nº ideal de features, o melhor score só se altera se for maior, se for igual é decisão de deixar o menor numero de features por questão de diminuir complexidade\n",
        "    if(score > melhor_score):\n",
        "        melhor_score = score\n",
        "        nf = features[i]\n",
        "    #print(score)\n",
        "print(\"Numero ideal de features: %d\" %nf)\n",
        "print(\"Score com %d features: %f\" % (nf, melhor_score))"
      ],
      "metadata": {
        "colab": {
          "base_uri": "https://localhost:8080/"
        },
        "id": "hL7j6eIPNkC0",
        "outputId": "3fb0e3c2-0fa8-42d2-c034-7a0f47a47fbd"
      },
      "execution_count": null,
      "outputs": [
        {
          "output_type": "stream",
          "name": "stdout",
          "text": [
            "Numero ideal de features: 5\n",
            "Score com 5 features: 0.912166\n"
          ]
        }
      ]
    },
    {
      "cell_type": "code",
      "source": [
        "fig, axs = plt.subplots(figsize = (10,10),tight_layout = True)\n",
        "sns.set()\n",
        "plt.plot(range(1,6),scores)\n",
        "plt.xticks([1,2,3,4,5,5])\n",
        "plt.title('Acuracia x Nº de Features')\n",
        "plt.xlabel('Numeros de Features')\n",
        "plt.ylabel('Acurácia')\n",
        "plt.show()\n",
        "figsize = (6.4,4.8)"
      ],
      "metadata": {
        "colab": {
          "base_uri": "https://localhost:8080/",
          "height": 725
        },
        "id": "Oj5t6BX5zM3t",
        "outputId": "e594d951-971f-4276-ded1-ef84623385bc"
      },
      "execution_count": null,
      "outputs": [
        {
          "output_type": "display_data",
          "data": {
            "text/plain": [
              "<Figure size 720x720 with 1 Axes>"
            ],
            "image/png": "[encoded data removed]"
          },
          "metadata": {}
        }
      ]
    },
    {
      "cell_type": "code",
      "source": [
        "# Extraindo colunas dos Previsores\n",
        "colunas = list(X.columns)\n",
        "regLin = LinearRegression()\n",
        "## RFE com número ideal de 5 features\n",
        "rfe = RFE(estimator=regLin,n_features_to_select= 5)\n",
        "## fit_transform para os Previsores\n",
        "Previsores_rfe = rfe.fit_transform(X,y)\n",
        "## Treinando\n",
        "regLin.fit(Previsores_rfe,y)\n",
        "## Pegando as features que foram selecionadas\n",
        "temp = pd.Series(rfe.support_,index=colunas)\n",
        "## Observando as melhores (.index)\n",
        "features_selecionadas_rfe = temp[temp==True].index\n",
        "features_selecionadas_rfe"
      ],
      "metadata": {
        "colab": {
          "base_uri": "https://localhost:8080/"
        },
        "id": "VZwb0w-3WZyS",
        "outputId": "29db1f87-844e-4eb6-9a18-f0570245ed0a"
      },
      "execution_count": null,
      "outputs": [
        {
          "output_type": "execute_result",
          "data": {
            "text/plain": [
              "Index(['yield_per_colony', 'production', 'stocks', 'average_price',\n",
              "       'value_of_production'],\n",
              "      dtype='object')"
            ]
          },
          "metadata": {},
          "execution_count": 51
        }
      ]
    },
    {
      "cell_type": "code",
      "source": [
        "X = dfNorm[features_selecionadas_rfe]\n",
        "y = dfNorm['colonies_number']"
      ],
      "metadata": {
        "id": "aJOZrZyxY2Mw"
      },
      "execution_count": null,
      "outputs": []
    },
    {
      "cell_type": "code",
      "source": [
        "X_trainRegLin, X_testRegLin, y_trainRegLin, y_testRegLin = train_test_split(X, y, test_size = 0.25, random_state = 2)"
      ],
      "metadata": {
        "id": "6pZC8H3sY7BY"
      },
      "execution_count": null,
      "outputs": []
    },
    {
      "cell_type": "code",
      "source": [
        "regLin = LinearRegression()\n",
        "regLin.fit(X_trainRegLin,y_trainRegLin)\n",
        "resRegLin = regLin.predict(X_testRegLin)"
      ],
      "metadata": {
        "id": "7lNkpe7qWq4r"
      },
      "execution_count": null,
      "outputs": []
    },
    {
      "cell_type": "markdown",
      "source": [
        "##SVM"
      ],
      "metadata": {
        "id": "-3PGNxLI9XNU"
      }
    },
    {
      "cell_type": "code",
      "source": [
        "X = dfNorm[['yield_per_colony','production','stocks','average_price','value_of_production']]\n",
        "y = dfNorm['colonies_number']"
      ],
      "metadata": {
        "id": "GY1TuI3kKxDT"
      },
      "execution_count": null,
      "outputs": []
    },
    {
      "cell_type": "code",
      "source": [
        "svm = LinearSVC()\n",
        "\n",
        "# Número de Atributos Previsoras\n",
        "features = np.arange(1,6)\n",
        "melhor_score=0\n",
        "nf=0\n",
        "scores =[]\n",
        "\n",
        "for i in range(len(features)):\n",
        "    ## Divisão treino e teste\n",
        "    X = X.astype('int')\n",
        "    y = y.astype('int')\n",
        "    X_treino, X_teste, Y_treino, Y_teste = train_test_split(X, y, test_size = 0.3, random_state = 0)\n",
        "    svm = LinearSVC()\n",
        "    ## RFE\n",
        "    rfe = RFE(estimator=svm,n_features_to_select=features[i],step=1)\n",
        "    ## Fit transform no treino\n",
        "    X_treino_rfe = rfe.fit_transform(X_treino,Y_treino)\n",
        "    X_teste_rfe = rfe.transform(X_teste)\n",
        "    ## Treinando com X_treino_rfe e Y_treino\n",
        "    svm.fit(X_treino_rfe,Y_treino)\n",
        "    ## Score do treinamento\n",
        "    score = svm.score(X = X_teste_rfe,y = Y_teste)\n",
        "    ## Armazenando resultados na lista de features\n",
        "    scores.append(score)\n",
        "    ## Observando o melhor score dentre todos e nº ideal de features, o melhor score só se altera se for maior, se for igual é decisão de deixar o menor numero de features por questão de diminuir complexidade\n",
        "    if(score > melhor_score):\n",
        "        melhor_score = score\n",
        "        nf = features[i]\n",
        "    #print(score)\n",
        "print(\"Numero ideal de features: %d\" %nf)\n",
        "print(\"Score com %d features: %f\" % (nf, melhor_score))"
      ],
      "metadata": {
        "colab": {
          "base_uri": "https://localhost:8080/"
        },
        "id": "b8fw4dxJ9amE",
        "outputId": "35072b4a-c4fe-4ee9-95f4-39baeaaf387a"
      },
      "execution_count": null,
      "outputs": [
        {
          "output_type": "stream",
          "name": "stdout",
          "text": [
            "Numero ideal de features: 2\n",
            "Score com 2 features: 0.955224\n"
          ]
        }
      ]
    },
    {
      "cell_type": "code",
      "source": [
        "fig, axs = plt.subplots(figsize = (10,10),tight_layout = True)\n",
        "sns.set()\n",
        "plt.plot(range(1,6),scores)\n",
        "plt.xticks([1,2,3,4,5,5])\n",
        "plt.title('Acuracia x Nº de Features')\n",
        "plt.xlabel('Numeros de Features')\n",
        "plt.ylabel('Acurácia')\n",
        "plt.show()\n",
        "figsize = (6.4,4.8)"
      ],
      "metadata": {
        "colab": {
          "base_uri": "https://localhost:8080/",
          "height": 725
        },
        "id": "bQrEOlwP0p5E",
        "outputId": "af9718a0-051c-4519-d36f-d056f73497c5"
      },
      "execution_count": null,
      "outputs": [
        {
          "output_type": "display_data",
          "data": {
            "text/plain": [
              "<Figure size 720x720 with 1 Axes>"
            ],
            "image/png": "[encoded data removed]"
          },
          "metadata": {}
        }
      ]
    },
    {
      "cell_type": "code",
      "source": [
        "# Extraindo colunas dos Previsores\n",
        "colunas = list(X.columns)\n",
        "svm = LinearSVC()\n",
        "## RFE com número ideal de 2 features\n",
        "rfe = RFE(estimator=svm,n_features_to_select= 2)\n",
        "## fit_transform para os Previsores\n",
        "Previsores_rfe = rfe.fit_transform(X,y)\n",
        "## Treinando\n",
        "svm.fit(Previsores_rfe,y)\n",
        "## Pegando as features que foram selecionadas\n",
        "temp = pd.Series(rfe.support_,index=colunas)\n",
        "## Observando as melhores (.index)\n",
        "features_selecionadas_rfe = temp[temp==True].index\n",
        "features_selecionadas_rfe"
      ],
      "metadata": {
        "colab": {
          "base_uri": "https://localhost:8080/"
        },
        "id": "UzXbxocyONCV",
        "outputId": "7787cbb1-ff60-48ef-c1d6-1ad3beb96ce0"
      },
      "execution_count": null,
      "outputs": [
        {
          "output_type": "execute_result",
          "data": {
            "text/plain": [
              "Index(['production', 'value_of_production'], dtype='object')"
            ]
          },
          "metadata": {},
          "execution_count": 58
        }
      ]
    },
    {
      "cell_type": "code",
      "source": [
        "X = dfNorm[features_selecionadas_rfe]\n",
        "y = dfNorm['colonies_number']\n",
        "\n",
        "X = X.astype('int')\n",
        "y = y.astype('int')"
      ],
      "metadata": {
        "id": "LayW1flTOkXp"
      },
      "execution_count": null,
      "outputs": []
    },
    {
      "cell_type": "code",
      "source": [
        "X_trainSVM, X_testSVM, y_trainSVM, y_testSVM = train_test_split(X, y, test_size = 0.25, random_state = 2)"
      ],
      "metadata": {
        "id": "glAIO_3nOnUg"
      },
      "execution_count": null,
      "outputs": []
    },
    {
      "cell_type": "code",
      "source": [
        "svm = LinearSVC()\n",
        "svm.fit(X_trainSVM,y_trainSVM)\n",
        "resSVM = svm.predict(X_testSVM)"
      ],
      "metadata": {
        "id": "Jo6s5nnaOq5b"
      },
      "execution_count": null,
      "outputs": []
    },
    {
      "cell_type": "markdown",
      "source": [
        "#Resultados experimentais e análise"
      ],
      "metadata": {
        "id": "Z22TNEkP45YL"
      }
    },
    {
      "cell_type": "markdown",
      "source": [
        "##Regressão Linear"
      ],
      "metadata": {
        "id": "lAYobvdW62Rn"
      }
    },
    {
      "cell_type": "code",
      "source": [
        "#RMSE: ou Raiz do Erro Quadrático Médio, é comumente usada para expressar a acurácia dos resultados numéricos do modelo.\n",
        "rmseLin = mean_squared_error(resRegLin, y_testRegLin)\n",
        "rmseLin"
      ],
      "metadata": {
        "colab": {
          "base_uri": "https://localhost:8080/"
        },
        "id": "2t2WfHyvXdss",
        "outputId": "e7e2a7c3-5ea8-4209-ee8f-52e1fba9c91f"
      },
      "execution_count": null,
      "outputs": [
        {
          "output_type": "execute_result",
          "data": {
            "text/plain": [
              "0.07457906951851426"
            ]
          },
          "metadata": {},
          "execution_count": 62
        }
      ]
    },
    {
      "cell_type": "code",
      "source": [
        "#xpressa a porcentagem de variância explicada pelas variáveis independentes apresentadas no modelo.\n",
        "rscoreLin = r2_score(y_testRegLin, resRegLin)\n",
        "rscoreLin"
      ],
      "metadata": {
        "colab": {
          "base_uri": "https://localhost:8080/"
        },
        "id": "kHZo3vdCX5an",
        "outputId": "1cc5e04c-1671-4882-fca4-f7d5f268ad4d"
      },
      "execution_count": null,
      "outputs": [
        {
          "output_type": "execute_result",
          "data": {
            "text/plain": [
              "0.9342728616960904"
            ]
          },
          "metadata": {},
          "execution_count": 63
        }
      ]
    },
    {
      "cell_type": "markdown",
      "source": [
        "##SVM"
      ],
      "metadata": {
        "id": "OGrJzOH2PKTn"
      }
    },
    {
      "cell_type": "code",
      "source": [
        "#RMSE: ou Raiz do Erro Quadrático Médio, é comumente usada para expressar a acurácia dos resultados numéricos do modelo.\n",
        "rmseSVM = mean_squared_error(resSVM, y_testSVM)\n",
        "rmseSVM"
      ],
      "metadata": {
        "colab": {
          "base_uri": "https://localhost:8080/"
        },
        "id": "FXWe0gQAPL_f",
        "outputId": "033b4dc0-146d-4d94-be1c-068bb1c70425"
      },
      "execution_count": null,
      "outputs": [
        {
          "output_type": "execute_result",
          "data": {
            "text/plain": [
              "0.1827956989247312"
            ]
          },
          "metadata": {},
          "execution_count": 64
        }
      ]
    },
    {
      "cell_type": "code",
      "source": [
        "#Expressa a porcentagem de variância explicada pelas variáveis independentes apresentadas no modelo.\n",
        "rscoreSVM = r2_score(y_testSVM, resSVM)\n",
        "rscoreSVM"
      ],
      "metadata": {
        "colab": {
          "base_uri": "https://localhost:8080/"
        },
        "id": "65H6Mc7RPTpo",
        "outputId": "ec118c4a-3482-4be4-d195-f8d87f2b1f3b"
      },
      "execution_count": null,
      "outputs": [
        {
          "output_type": "execute_result",
          "data": {
            "text/plain": [
              "0.6889020070838253"
            ]
          },
          "metadata": {},
          "execution_count": 65
        }
      ]
    }
  ]
}